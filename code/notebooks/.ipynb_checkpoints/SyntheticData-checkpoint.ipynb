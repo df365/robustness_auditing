{
 "cells": [
  {
   "cell_type": "code",
   "execution_count": 1,
   "id": "a8a34a2b",
   "metadata": {},
   "outputs": [],
   "source": [
    "import numpy as np\n",
    "import pandas as pd\n",
    "import sys\n",
    "sys.path.append('../MoitraRohatgi/')\n",
    "sys.path.append('../')\n",
    "import auditor_tools\n",
    "import algorithms\n",
    "import matplotlib.pyplot as plt\n",
    "import time"
   ]
  },
  {
   "cell_type": "markdown",
   "id": "b2100bfc",
   "metadata": {},
   "source": [
    "# synthetic data in 1 dimension + intercept"
   ]
  },
  {
   "cell_type": "code",
   "execution_count": 2,
   "id": "5f00139d",
   "metadata": {},
   "outputs": [],
   "source": [
    "# load 2d synthetic dataset\n",
    "synthetic_data_path = '../../data/synthetic2d.csv'\n",
    "df = pd.read_csv(synthetic_data_path)\n",
    "X = np.array([[df[\"X\"][i],1] for i in range(len(df[\"X\"]))])\n",
    "Y = np.array(df[\"Y\"])\n",
    "n = X.shape[0]"
   ]
  },
  {
   "cell_type": "code",
   "execution_count": 3,
   "id": "4ee78248",
   "metadata": {},
   "outputs": [
    {
     "data": {
      "text/plain": [
       "<matplotlib.collections.PathCollection at 0x7fe3a848bf70>"
      ]
     },
     "execution_count": 3,
     "metadata": {},
     "output_type": "execute_result"
    },
    {
     "data": {
      "image/png": "[encoded data removed]",
      "text/plain": [
       "<Figure size 432x288 with 1 Axes>"
      ]
     },
     "metadata": {
      "needs_background": "light"
     },
     "output_type": "display_data"
    }
   ],
   "source": [
    "# plot the dataset, for intuition\n",
    "plt.scatter(X[:,0],Y)"
   ]
  },
  {
   "cell_type": "code",
   "execution_count": 4,
   "id": "4266db7f",
   "metadata": {},
   "outputs": [
    {
     "name": "stdout",
     "output_type": "stream",
     "text": [
      "Moitra-Rohatgi (fractional stability):\n",
      "Set parameter Username\n",
      "Academic license - for non-commercial use only - expires 2023-08-04\n",
      "upper bound: 62.393094812451594\n",
      "lower bound: 60.22962675747046\n",
      "total time: 11.097340822219849\n"
     ]
    }
   ],
   "source": [
    "print(\"Moitra-Rohatgi (fractional stability):\")\n",
    "timer = time.time()\n",
    "print(\"upper bound: \" + str(algorithms.net_algorithm(X,Y,100)))\n",
    "print(\"lower bound: \" + str(algorithms.lp_algorithm(X,Y,[0],100)))\n",
    "print(\"total time: \" + str(time.time() - timer))"
   ]
  },
  {
   "cell_type": "code",
   "execution_count": 5,
   "id": "ed0ba1c2",
   "metadata": {},
   "outputs": [
    {
     "name": "stdout",
     "output_type": "stream",
     "text": [
      "Spectral:\n",
      "lower bound: 19.543225083505405\n",
      "total time: 0.00500798225402832\n"
     ]
    }
   ],
   "source": [
    "print(\"Spectral:\")\n",
    "timer = time.time()\n",
    "print(\"lower bound: \" + str(auditor_tools.spectral_certify(X,Y,intercept=False,i=0,verbose=True)))\n",
    "print(\"total time: \" + str(time.time() - timer))"
   ]
  },
  {
   "cell_type": "code",
   "execution_count": 6,
   "id": "3c002205",
   "metadata": {
    "scrolled": false
   },
   "outputs": [
    {
     "name": "stdout",
     "output_type": "stream",
     "text": [
      "Integer Programming (1 min cutoff):\n",
      "set residual constraints\n",
      "Set parameter NonConvex to value 2\n",
      "Set parameter TimeLimit to value 30\n",
      "start solving\n",
      "Gurobi Optimizer version 9.5.2 build v9.5.2rc0 (mac64[rosetta2])\n",
      "Thread count: 8 physical cores, 8 logical processors, using up to 8 threads\n",
      "Optimize a model with 200 rows, 101 columns and 200 nonzeros\n",
      "Model fingerprint: 0x21b08c19\n",
      "Model has 2 quadratic constraints\n",
      "Coefficient statistics:\n",
      "  Matrix range     [1e+00, 1e+00]\n",
      "  QMatrix range    [1e-02, 2e+00]\n",
      "  QLMatrix range   [5e-04, 1e+01]\n",
      "  Objective range  [1e+00, 1e+00]\n",
      "  Bounds range     [0e+00, 0e+00]\n",
      "  RHS range        [1e+00, 1e+00]\n",
      "Presolve removed 200 rows and 0 columns\n",
      "\n",
      "Continuous model is non-convex -- solving as a MIP\n",
      "\n",
      "Found heuristic solution: objective -0.0000000\n",
      "Presolve removed 200 rows and 0 columns\n",
      "Presolve time: 0.00s\n",
      "Presolved: 402 rows, 202 columns, 1200 nonzeros\n",
      "Presolved model has 100 bilinear constraint(s)\n",
      "Variable types: 202 continuous, 0 integer (0 binary)\n",
      "\n",
      "Root relaxation: objective 1.000000e+02, 151 iterations, 0.00 seconds (0.00 work units)\n",
      "\n",
      "    Nodes    |    Current Node    |     Objective Bounds      |     Work\n",
      " Expl Unexpl |  Obj  Depth IntInf | Incumbent    BestBd   Gap | It/Node Time\n",
      "\n",
      "     0     0  100.00000    0  100   -0.00000  100.00000      -     -    0s\n",
      "H    0     0                      37.6159497  100.00000   166%     -    0s\n",
      "     0     0  100.00000    0  100   37.61595  100.00000   166%     -    0s\n",
      "     0     2  100.00000    0  100   37.61595  100.00000   166%     -    0s\n",
      "*  141     9              14      37.6159513   83.40841   122%  52.3    0s\n",
      "\n",
      "Explored 203 nodes (11054 simplex iterations) in 0.10 seconds (0.15 work units)\n",
      "Thread count was 8 (of 8 available processors)\n",
      "\n",
      "Solution count 2: 37.616 -0 \n",
      "\n",
      "Optimal solution found (tolerance 1.00e-04)\n",
      "Best objective 3.761595130800e+01, best bound 3.761595130800e+01, gap 0.0000%\n",
      "Set parameter NonConvex to value 2\n",
      "Set parameter TimeLimit to value 30\n",
      "Gurobi Optimizer version 9.5.2 build v9.5.2rc0 (mac64[rosetta2])\n",
      "Thread count: 8 physical cores, 8 logical processors, using up to 8 threads\n",
      "Optimize a model with 1 rows, 102 columns and 1 nonzeros\n",
      "Model fingerprint: 0x4aa3f3b0\n",
      "Model has 2 quadratic constraints\n",
      "Variable types: 2 continuous, 100 integer (100 binary)\n",
      "Coefficient statistics:\n",
      "  Matrix range     [1e+00, 1e+00]\n",
      "  QMatrix range    [1e-04, 6e+00]\n",
      "  QLMatrix range   [5e-04, 1e+01]\n",
      "  Objective range  [1e+00, 1e+00]\n",
      "  Bounds range     [1e+00, 1e+00]\n",
      "  RHS range        [0e+00, 0e+00]\n",
      "\n",
      "User MIP start produced solution with objective 37 (0.00s)\n",
      "Loaded user MIP start with objective 37\n",
      "\n",
      "Presolve removed 1 rows and 0 columns\n",
      "Presolve time: 0.00s\n",
      "Presolved: 402 rows, 702 columns, 1600 nonzeros\n",
      "Presolved model has 400 SOS constraint(s)\n",
      "Variable types: 402 continuous, 300 integer (300 binary)\n",
      "\n",
      "Root relaxation: objective 1.000000e+02, 1 iterations, 0.00 seconds (0.00 work units)\n",
      "\n",
      "    Nodes    |    Current Node    |     Objective Bounds      |     Work\n",
      " Expl Unexpl |  Obj  Depth IntInf | Incumbent    BestBd   Gap | It/Node Time\n",
      "\n",
      "     0     0  100.00000    0    2   37.00000  100.00000   170%     -    0s\n",
      "     0     0  100.00000    0    2   37.00000  100.00000   170%     -    0s\n",
      "     0     2  100.00000    0    2   37.00000  100.00000   170%     -    0s\n",
      " 138316 78330   87.00000  109    2   37.00000   98.00000   165%   3.8    5s\n",
      " 309879 160452   97.00000   86    2   37.00000   98.00000   165%   2.9   10s\n",
      " 500429 256037   56.00000  110    1   37.00000   98.00000   165%   2.6   15s\n",
      " 696153 357735 infeasible  111        37.00000   98.00000   165%   2.2   20s\n",
      " 888778 458460 infeasible  111        37.00000   98.00000   165%   2.0   25s\n",
      " 1076962 553543   96.00000   94   17   37.00000   98.00000   165%   1.9   30s\n",
      "\n",
      "Explored 1078075 nodes (2036594 simplex iterations) in 30.00 seconds (42.16 work units)\n",
      "Thread count was 8 (of 8 available processors)\n",
      "\n",
      "Solution count 1: 37 \n",
      "\n",
      "Time limit reached\n",
      "Best objective 3.700000000000e+01, best bound 9.800000000000e+01, gap 164.8649%\n",
      "upper bound: 63.0\n",
      "lower bound: 62.38404869199711\n",
      "total time: 30.123990058898926\n"
     ]
    }
   ],
   "source": [
    "print(\"Integer Programming (1 min cutoff):\")\n",
    "timer = time.time()\n",
    "\n",
    "# get fractional bound, also fractional weights to warm-start integral solve\n",
    "bound_frac, val_frac, w, model = auditor_tools.solve_regression_fractional(np.flip(X,axis=1),-Y, \n",
    "                                intercept=False,time_limit=30, verbose=True)\n",
    "ws = []\n",
    "for i in range(len(Y)):\n",
    "    if model.getVars()[i].X > 0.8:\n",
    "        ws.append(1)\n",
    "    else:\n",
    "        ws.append(0)\n",
    "\n",
    "# do the integral solve\n",
    "bound, val, w, model = auditor_tools.solve_regression_integral(np.flip(X,axis=1),-Y,intercept=False,time_limit=30,warm_start=ws,verbose=True)\n",
    "\n",
    "print(\"upper bound: \" + str((len(Y) - val)))\n",
    "print(\"lower bound: \" + str((len(Y) - bound_frac))) # fractional bound usually better than integral bound\n",
    "print(\"total time: \" + str(time.time() - timer))"
   ]
  },
  {
   "cell_type": "code",
   "execution_count": null,
   "id": "7390e163",
   "metadata": {},
   "outputs": [
    {
     "name": "stdout",
     "output_type": "stream",
     "text": [
      "ZAMinfluence (BGM21):\n"
     ]
    }
   ],
   "source": [
    "print(\"ZAMinfluence (BGM21):\")\n",
    "timer = time.time()\n",
    "print(\"upper bound: \" + str(auditor_tools.ZAMinfluence_upper_bound(np.flip(X,axis=1),-Y)))\n",
    "print(\"total time: \" + str(time.time() - timer))"
   ]
  },
  {
   "cell_type": "code",
   "execution_count": null,
   "id": "b72ebe52",
   "metadata": {},
   "outputs": [],
   "source": [
    "print(\"KZC21:\")\n",
    "timer = time.time()\n",
    "print(\"upper bound: \" + str(algorithms.sensitivity(X,-Y)))\n",
    "print(\"total time: \" + str(time.time() - timer))"
   ]
  },
  {
   "cell_type": "markdown",
   "id": "3b8f56ad",
   "metadata": {},
   "source": [
    "# synthetic data in 4 dimensions + intercept\n",
    "we don't run Moitra-Rohatgi in this many dimensions; it is too slow"
   ]
  },
  {
   "cell_type": "code",
   "execution_count": null,
   "id": "c76e70cc",
   "metadata": {},
   "outputs": [],
   "source": [
    "# load 4d synthetic dataset\n",
    "synthetic_data_path = '../../data/synthetic4d.csv'\n",
    "df = pd.read_csv(synthetic_data_path)\n",
    "X = np.array([[df[\"X1\"][i],df[\"X2\"][i],df[\"X3\"][i],df[\"X4\"][i],1] for i in range(len(df[\"X1\"]))])\n",
    "Y = np.array(df[\"Y\"])\n",
    "n = X.shape[0]"
   ]
  },
  {
   "cell_type": "code",
   "execution_count": null,
   "id": "c555d667",
   "metadata": {},
   "outputs": [],
   "source": [
    "print(\"Moitra-Rohatgi (fractional stability):\")\n",
    "timer = time.time()\n",
    "print(\"upper bound: \" + str(algorithms.net_algorithm(X,Y,1000)))\n",
    "print(\"lower bound: NONE -- MR LP algorithm times out in 4 dimensions\")\n",
    "#print(\"lower bound: \" + str(algorithms.lp_algorithm(X,Y,[0],100)))\n",
    "print(\"total time: \" + str(time.time() - timer))"
   ]
  },
  {
   "cell_type": "code",
   "execution_count": null,
   "id": "48612d56",
   "metadata": {},
   "outputs": [],
   "source": [
    "print(\"Spectral:\")\n",
    "timer = time.time()\n",
    "print(\"lower bound: \" + str(auditor_tools.spectral_certify(X,Y,i=3,intercept=False,verbose=True)))\n",
    "print(\"total time: \" + str(time.time() - timer))"
   ]
  },
  {
   "cell_type": "code",
   "execution_count": null,
   "id": "c3a72779",
   "metadata": {},
   "outputs": [],
   "source": [
    "print(\"Integer Programming (1 min cutoff):\")\n",
    "\n",
    "timer = time.time()\n",
    "\n",
    "\n",
    "# get fractional bound, also fractional weights to warm-start integral solve\n",
    "bound_frac, val_frac, w, model = auditor_tools.solve_regression_fractional(np.flip(X,axis=1),Y, \n",
    "                                intercept=False,time_limit=30,verbose=True)\n",
    "ws = []\n",
    "for i in range(len(Y)):\n",
    "    if model.getVars()[i].X > 0.8:\n",
    "        ws.append(1)\n",
    "    else:\n",
    "        ws.append(0)\n",
    "\n",
    "# do the integral solve\n",
    "bound, val, w, model = auditor_tools.solve_regression_integral(np.flip(X,axis=1),Y,intercept=False,time_limit=30,warm_start=ws,verbose=True)\n",
    "\n",
    "print(\"upper bound: \" + str((len(Y) - val)))\n",
    "print(\"lower bound: \" + str((len(Y) - bound_frac))) # fractional bound usually better than integral bound\n",
    "print(\"total time: \" + str(time.time() - timer))"
   ]
  },
  {
   "cell_type": "code",
   "execution_count": null,
   "id": "e82755b5",
   "metadata": {},
   "outputs": [],
   "source": [
    "print(\"ZAMinfluence (BGM20):\")\n",
    "timer = time.time()\n",
    "print(\"upper bound: \" + str(auditor_tools.ZAMinfluence_upper_bound(np.flip(X,axis=1),Y)))\n",
    "print(\"total time: \" + str(time.time() - timer))"
   ]
  },
  {
   "cell_type": "code",
   "execution_count": null,
   "id": "dc31487e",
   "metadata": {},
   "outputs": [],
   "source": [
    "print(\"KZC21:\")\n",
    "timer = time.time()\n",
    "print(\"upper bound: \" + str(algorithms.sensitivity(X,Y)))\n",
    "print(\"total time: \" + str(time.time() - timer))"
   ]
  },
  {
   "cell_type": "code",
   "execution_count": null,
   "id": "5bb1c2ed",
   "metadata": {},
   "outputs": [],
   "source": []
  }
 ],
 "metadata": {
  "kernelspec": {
   "display_name": "Python 3 (ipykernel)",
   "language": "python",
   "name": "python3"
  },
  "language_info": {
   "codemirror_mode": {
    "name": "ipython",
    "version": 3
   },
   "file_extension": ".py",
   "mimetype": "text/x-python",
   "name": "python",
   "nbconvert_exporter": "python",
   "pygments_lexer": "ipython3",
   "version": "3.9.12"
  }
 },
 "nbformat": 4,
 "nbformat_minor": 5
}
