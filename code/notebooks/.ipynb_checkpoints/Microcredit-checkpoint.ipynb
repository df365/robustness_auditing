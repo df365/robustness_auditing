{
 "cells": [
  {
   "cell_type": "code",
   "execution_count": 1,
   "id": "9e11bc07",
   "metadata": {},
   "outputs": [],
   "source": [
    "import numpy as np\n",
    "import copy\n",
    "import matplotlib.pyplot as plt\n",
    "import time\n",
    "\n",
    "import sys\n",
    "sys.path.append('../MoitraRohatgi/')\n",
    "sys.path.append('../')\n",
    "import auditor_tools\n",
    "import algorithms\n",
    "import experiments\n",
    "import examples\n",
    "import our_experiments"
   ]
  },
  {
   "cell_type": "markdown",
   "id": "652c4cb4",
   "metadata": {},
   "source": [
    "We first read in the data from each of the 7 microcredit studies and solve exactly using Algorithm 1."
   ]
  },
  {
   "cell_type": "code",
   "execution_count": 2,
   "id": "623ec956",
   "metadata": {},
   "outputs": [
    {
     "name": "stdout",
     "output_type": "stream",
     "text": [
      "mongolia exact solution:  15 time: 0.004s\n",
      "mexico exact solution:  1 time: 0.013s\n",
      "bosnia exact solution:  13 time: 0.001s\n",
      "india exact solution:  6 time: 0.005s\n",
      "morocco exact solution:  11 time: 0.005s\n",
      "philippines exact solution:  9 time: 0.001s\n",
      "ethiopia exact solution:  1 time: 0.003s\n",
      "Total time:  0.036s\n"
     ]
    }
   ],
   "source": [
    "locations, Xs, Ys = our_experiments.LoadMicroCreditData()\n",
    "start_1d=time.time()\n",
    "sol={}\n",
    "for i in range(7):\n",
    "    start = time.time()\n",
    "    sol[i]=auditor_tools.solve_1D_binary_feature(Xs[i],Ys[i])\n",
    "    print(locations[i], 'exact solution: ', \n",
    "          len(Xs[i])-(len(sol[i][2][0])+len(sol[i][2][1])),\n",
    "         'time:',str(time.time()-start)[:5]+'s')\n",
    "print('Total time: ',str(time.time()-start_1d)[:5]+'s')"
   ]
  },
  {
   "cell_type": "markdown",
   "id": "03948f48",
   "metadata": {},
   "source": [
    "Using the Philippines as an example, we first verify that the identified subset indeed changes the sign of the coefficient."
   ]
  },
  {
   "cell_type": "code",
   "execution_count": 3,
   "id": "6948afe1",
   "metadata": {},
   "outputs": [
    {
     "name": "stdout",
     "output_type": "stream",
     "text": [
      "philippines\n",
      "[ 66.56427905 381.34935777]\n"
     ]
    }
   ],
   "source": [
    "i = 5\n",
    "print(locations[i])\n",
    "print(np.linalg.lstsq(np.vstack([Xs[i], np.ones(len(Xs[i]))]).T, Ys[i], rcond=None)[0])"
   ]
  },
  {
   "cell_type": "code",
   "execution_count": 4,
   "id": "20d46d17",
   "metadata": {},
   "outputs": [
    {
     "data": {
      "text/plain": [
       "array([ -2.00017913, 384.29966074])"
      ]
     },
     "execution_count": 4,
     "metadata": {},
     "output_type": "execute_result"
    }
   ],
   "source": [
    "num_zeros = len(sol[i][2][0])\n",
    "num_ones = len(sol[i][2][1])\n",
    "np.linalg.lstsq(np.vstack([[0]*num_zeros+[1]*num_ones,\n",
    "                        np.ones(num_zeros+num_ones)]).T,\n",
    "                        (sol[i][2][0]+sol[i][2][1]), rcond=None)[0]"
   ]
  },
  {
   "cell_type": "markdown",
   "id": "19662cbd",
   "metadata": {},
   "source": [
    "Next we recreate these solutions using our Gurobi approach, where we first solve for a fractional solution and then naively round it to an integral one. For each instance we solve a linear regression before and after adjusting the weights."
   ]
  },
  {
   "cell_type": "code",
   "execution_count": 5,
   "id": "0f6f8216",
   "metadata": {
    "scrolled": false
   },
   "outputs": [
    {
     "name": "stdout",
     "output_type": "stream",
     "text": [
      "Set parameter Username\n",
      "Academic license - for non-commercial use only - expires 2023-08-04\n",
      "mongolia lin reg original: [-0.34114843 -0.67830707]\n",
      "lin reg after: [ 0.00333084 -0.77107782]\n",
      "Exact solution:  15.0 Fractional solution:  14.818911129836465\n",
      "time: 0.670s\n",
      "mexico lin reg original: [-4.54911586 14.37771784]\n",
      "lin reg after: [ 0.39753096 14.37771784]\n",
      "Exact solution:  1.0 Fractional solution:  0.9223780803222326\n",
      "time: 18.88s\n",
      "bosnia lin reg original: [37.53445911 97.34410542]\n",
      "lin reg after: [-0.70069259 97.34410542]\n",
      "Exact solution:  13.0 Fractional solution:  12.539644355023029\n",
      "time: 1.193s\n",
      "india lin reg original: [16.72150305 29.37342983]\n",
      "lin reg after: [-0.50091578 32.40053348]\n",
      "Exact solution:  6.0 Fractional solution:  5.535872289725376\n",
      "time: 17.76s\n",
      "morocco lin reg original: [17.54431238 81.05080314]\n",
      "lin reg after: [-0.56857954 82.72078456]\n",
      "Exact solution:  11.0 Fractional solution:  10.532999172928612\n",
      "time: 17.36s\n",
      "philippines lin reg original: [ 66.56427905 381.34935777]\n",
      "lin reg after: [ -4.01371353 381.34935777]\n",
      "Exact solution:  9.0 Fractional solution:  8.191586218191333\n",
      "time: 1.821s\n",
      "ethiopia lin reg original: [ 7.28856889 13.00244921]\n",
      "lin reg after: [-0.05349424 13.00244921]\n",
      "Exact solution:  1.0 Fractional solution:  0.9927197579745553\n",
      "time: 150.8s\n"
     ]
    }
   ],
   "source": [
    "for i in range(7):\n",
    "    start = time.time()\n",
    "    lin_reg_pre=np.linalg.lstsq(np.vstack([Xs[i], np.ones(len(Xs[i]))]).T, Ys[i], rcond=None)[0]\n",
    "    \n",
    "    sol=auditor_tools.solve_regression_fractional(np.vstack([np.ones(len(Xs[i])),Xs[i]]).T, Ys[i], intercept=False, time_limit=150,\n",
    "                                                 verbose=False)\n",
    "    sol_int=auditor_tools.solve_regression_integral(np.vstack([np.ones(len(Xs[i])),Xs[i]]).T, Ys[i], intercept=False, time_limit=1500,\n",
    "                             warm_start=[1 if sol[-2][x].X>.9 else 0 for x in range(len(sol[-2]))],\n",
    "                                 warm_start_ub=sol[1],verbose=False)\n",
    "    X,Y=[],[]\n",
    "    for k in range(len(Xs[i])):\n",
    "        if sol_int[-2][k].X>.99: \n",
    "            X.append(Xs[i][k])\n",
    "            Y.append(Ys[i][k])\n",
    "    lin_reg_post=np.linalg.lstsq(np.vstack([np.array(X), \n",
    "                                        np.ones(len(X))]).T, \n",
    "                                        np.array(Y), \n",
    "                                        rcond=None)[0]\n",
    "    print(locations[i], 'lin reg original:', lin_reg_pre)\n",
    "    print('lin reg after:', lin_reg_post)\n",
    "    print('Exact solution: ', len(Xs[i])-sol_int[1], 'Fractional solution: ',len(Xs[i])-sol[1])\n",
    "    print('time:',str(time.time()-start)[:5]+'s')"
   ]
  },
  {
   "cell_type": "markdown",
   "id": "e5132896",
   "metadata": {},
   "source": [
    "Though a bit slower (2.5 minutes in total instead of , this gives the same solutions, verifies the sign of the regression flipping in each instance, and identifies an optimal solution to both the fractional and the integral problem. Finally, we apply the algorithms from MR'22 to each of the 7 instances. These algorithms run significantly slower (taking up to 27 minutes per instance) without obtaining strong bounds (only 3 nontrivial lower bounds, none of which are tight)."
   ]
  },
  {
   "cell_type": "code",
   "execution_count": 6,
   "id": "1c573598",
   "metadata": {
    "scrolled": true
   },
   "outputs": [
    {
     "name": "stdout",
     "output_type": "stream",
     "text": [
      "mongolia ub:  19.83201324931474 lb:  13.405346839396605 time:  73.35161280632019\n",
      "mexico ub:  356.782214765999 lb:  0.0 time:  1374.2530949115753\n",
      "bosnia ub:  14.79960170814752 lb:  0 time:  396.6763491630554\n",
      "india ub:  5.662413264168208 lb:  4.619108493805617 time:  977.6657259464264\n",
      "morocco ub:  11.023460126855753 lb:  10.514587511715973 time:  751.449333190918\n",
      "philippines ub:  9.90855773454632 lb:  7.804787281707921 time:  139.17893290519714\n",
      "ethiopia ub:  1.9841741001655464 lb:  0 time:  336.7263810634613\n",
      "Total time:  4049.s\n"
     ]
    }
   ],
   "source": [
    "start_MR=time.time()\n",
    "for i in range(7):\n",
    "    start_mr=time.time()\n",
    "    sol=algorithms.net_algorithm(np.vstack([Xs[i],np.ones(len(Xs[i]))]).T, Ys[i], 100)\n",
    "    sol2=algorithms.lp_algorithm(np.vstack([Xs[i],np.ones(len(Xs[i]))]).T, Ys[i], [0],100)    \n",
    "    print(locations[i], 'ub: ',sol, 'lb: ', sol2, 'time: ',time.time()-start_mr)\n",
    "print('Total time: ',str(time.time()-start_MR)[:5]+'s')"
   ]
  },
  {
   "cell_type": "markdown",
   "id": "d2179768",
   "metadata": {},
   "source": [
    "It is worth noting some of these upper bounds may contradict our exact solutions (e.g., see India); this is because our exact solution identifies the optimal integral solution. For the fractional problem we let Gurobi solve above, it identifies 8.19 as the optimal solution."
   ]
  },
  {
   "cell_type": "code",
   "execution_count": 10,
   "id": "fb5f10a5",
   "metadata": {
    "scrolled": true
   },
   "outputs": [
    {
     "name": "stdout",
     "output_type": "stream",
     "text": [
      "Spectral:\n",
      "mongolia  lower bound: 1.749181385409944\n",
      "mexico  lower bound: 0.32837338458102955\n",
      "bosnia  lower bound: 2.8332401425016513\n",
      "india  lower bound: 1.622781539545473\n",
      "morocco  lower bound: 1.862883646471781\n",
      "philippines  lower bound: 0.5591208714573296\n",
      "ethiopia  lower bound: 0.4384120594975924\n",
      "Total time:  0.828s\n"
     ]
    }
   ],
   "source": [
    "print(\"Spectral:\")\n",
    "start_spectral=time.time()\n",
    "for i in range(7):\n",
    "    print(locations[i], \" lower bound: \" + str(auditor_tools.spectral_certify(\n",
    "        X=np.vstack([Xs[i],np.ones(len(Xs[i]))]).T,\n",
    "        Y=Ys[i],\n",
    "        i=0,intercept=False)))\n",
    "print('Total time: ',str(time.time()-start_spectral)[:5]+'s')"
   ]
  },
  {
   "cell_type": "markdown",
   "id": "3c86cd6e",
   "metadata": {},
   "source": [
    "## Finally, we run MR22's implementation of KZC21 and our ZAMinfluence implementation"
   ]
  },
  {
   "cell_type": "code",
   "execution_count": 8,
   "id": "a8a7366f",
   "metadata": {},
   "outputs": [
    {
     "name": "stdout",
     "output_type": "stream",
     "text": [
      "mongolia ub:  15 time:  0.12023401260375977\n",
      "mexico ub:  1 time:  3.480635166168213\n",
      "bosnia ub:  13 time:  0.07709789276123047\n",
      "india ub:  6 time:  2.4151949882507324\n",
      "morocco ub:  11 time:  2.6993680000305176\n",
      "philippines ub:  9 time:  0.04664301872253418\n",
      "ethiopia ub:  1 time:  0.0442662239074707\n",
      "Total time:  8.885s\n"
     ]
    }
   ],
   "source": [
    "locations, Xs, Ys = our_experiments.LoadMicroCreditData()\n",
    "start_MR=time.time()\n",
    "for i in range(7):\n",
    "    start_sensitivity=time.time()\n",
    "    original_length = len(Xs[i])\n",
    "    sol=algorithms.sensitivity(np.vstack([Xs[i],np.ones(len(Xs[i]))]).T, -Ys[i])\n",
    "    print(locations[i], 'ub: ', sol, 'time: ',time.time()-start_sensitivity)\n",
    "print('Total time: ',str(time.time()-start_MR)[:5]+'s')"
   ]
  },
  {
   "cell_type": "code",
   "execution_count": 9,
   "id": "7dd261c1",
   "metadata": {},
   "outputs": [
    {
     "name": "stdout",
     "output_type": "stream",
     "text": [
      "mongolia ub:  15 time:  0.015874147415161133\n",
      "mexico ub:  1 time:  2.9421942234039307\n",
      "bosnia ub:  13 time:  0.021765947341918945\n",
      "india ub:  6 time:  1.1344401836395264\n",
      "morocco ub:  11 time:  1.0882527828216553\n",
      "philippines ub:  9 time:  0.014329910278320312\n",
      "ethiopia ub:  1 time:  0.041810035705566406\n",
      "Total time:  5.259s\n"
     ]
    }
   ],
   "source": [
    "locations, Xs, Ys = our_experiments.LoadMicroCreditData()\n",
    "start_BGM=time.time()\n",
    "for i in range(7):\n",
    "    start_sensitivity=time.time()\n",
    "    original_length = len(Xs[i])\n",
    "    sol=auditor_tools.ZAMinfluence_upper_bound(np.vstack([np.ones(len(Xs[i])),Xs[i]]).T, -Ys[i])[0]\n",
    "    print(locations[i], 'ub: ', len(Xs[i])-sol, 'time: ',time.time()-start_sensitivity)\n",
    "print('Total time: ',str(time.time()-start_BGM)[:5]+'s')"
   ]
  }
 ],
 "metadata": {
  "kernelspec": {
   "display_name": "Python 3 (ipykernel)",
   "language": "python",
   "name": "python3"
  },
  "language_info": {
   "codemirror_mode": {
    "name": "ipython",
    "version": 3
   },
   "file_extension": ".py",
   "mimetype": "text/x-python",
   "name": "python",
   "nbconvert_exporter": "python",
   "pygments_lexer": "ipython3",
   "version": "3.9.12"
  }
 },
 "nbformat": 4,
 "nbformat_minor": 5
}
