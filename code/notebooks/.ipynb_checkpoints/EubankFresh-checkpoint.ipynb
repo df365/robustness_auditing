{
 "cells": [
  {
   "cell_type": "code",
   "execution_count": 1,
   "id": "e9950f0b",
   "metadata": {},
   "outputs": [],
   "source": [
    "import numpy as np\n",
    "import copy\n",
    "import matplotlib.pyplot as plt\n",
    "import time\n",
    "\n",
    "import sys\n",
    "sys.path.append('../MoitraRohatgi/')\n",
    "sys.path.append('../')\n",
    "import auditor_tools\n",
    "import algorithms\n",
    "import experiments\n",
    "import examples\n",
    "import our_experiments"
   ]
  },
  {
   "cell_type": "code",
   "execution_count": 2,
   "id": "af497368",
   "metadata": {},
   "outputs": [],
   "source": [
    "X,Y,dim = our_experiments.LoadEubankFreshData()"
   ]
  },
  {
   "cell_type": "code",
   "execution_count": 3,
   "id": "ebed0e42",
   "metadata": {},
   "outputs": [
    {
     "data": {
      "text/plain": [
       "60.60362580853325"
      ]
     },
     "execution_count": 3,
     "metadata": {},
     "output_type": "execute_result"
    }
   ],
   "source": [
    "algorithms.ols(X,Y,np.ones(len(Y)))[-1]"
   ]
  },
  {
   "cell_type": "code",
   "execution_count": 4,
   "id": "3d07086a",
   "metadata": {},
   "outputs": [
    {
     "name": "stdout",
     "output_type": "stream",
     "text": [
      "Set parameter Username\n",
      "Academic license - for non-commercial use only - expires 2023-08-04\n",
      "set residual constraints\n",
      "Set parameter NonConvex to value 2\n",
      "Set parameter TimeLimit to value 1\n",
      "start solving\n",
      "Gurobi Optimizer version 9.5.2 build v9.5.2rc0 (mac64[rosetta2])\n",
      "Thread count: 8 physical cores, 8 logical processors, using up to 8 threads\n",
      "Optimize a model with 1008 rows, 551 columns and 1008 nonzeros\n",
      "Model fingerprint: 0x4ff7d702\n",
      "Model has 48 quadratic constraints\n",
      "Coefficient statistics:\n",
      "  Matrix range     [1e+00, 1e+00]\n",
      "  QMatrix range    [6e-02, 1e+00]\n",
      "  QLMatrix range   [6e-01, 5e+02]\n",
      "  Objective range  [1e+00, 1e+00]\n",
      "  Bounds range     [0e+00, 0e+00]\n",
      "  RHS range        [1e+00, 1e+00]\n",
      "Presolve removed 1008 rows and 0 columns\n",
      "\n",
      "Continuous model is non-convex -- solving as a MIP\n",
      "\n",
      "Found heuristic solution: objective -0.0000000\n",
      "Presolve removed 1008 rows and 0 columns\n",
      "Presolve time: 0.00s\n",
      "Presolved: 6096 rows, 2064 columns, 18368 nonzeros\n",
      "Presolved model has 1512 bilinear constraint(s)\n",
      "Variable types: 2064 continuous, 0 integer (0 binary)\n",
      "\n",
      "Root relaxation: objective 5.040000e+02, 3123 iterations, 0.22 seconds (0.32 work units)\n",
      "\n",
      "    Nodes    |    Current Node    |     Objective Bounds      |     Work\n",
      " Expl Unexpl |  Obj  Depth IntInf | Incumbent    BestBd   Gap | It/Node Time\n",
      "\n",
      "     0     0  504.00000    0 1512   -0.00000  504.00000      -     -    0s\n",
      "H    0     0                     476.2140584  504.00000  5.83%     -    0s\n",
      "     0     0  504.00000    0 1512  476.21406  504.00000  5.83%     -    0s\n",
      "     0     2  504.00000    0 1512  476.21406  504.00000  5.83%     -    0s\n",
      "\n",
      "Explored 5 nodes (3993 simplex iterations) in 1.03 seconds (1.24 work units)\n",
      "Thread count was 8 (of 8 available processors)\n",
      "\n",
      "Solution count 2: 476.214 -0 \n",
      "\n",
      "Time limit reached\n",
      "Best objective 4.762140583627e+02, best bound 5.040000000000e+02, gap 5.8348%\n"
     ]
    }
   ],
   "source": [
    "timer = time.time()\n",
    "eubank_sol = auditor_tools.solve_regression_fractional(X,Y,intercept=False, time_limit=1)"
   ]
  },
  {
   "cell_type": "code",
   "execution_count": 5,
   "id": "3b3c21b9",
   "metadata": {},
   "outputs": [
    {
     "name": "stdout",
     "output_type": "stream",
     "text": [
      "Set parameter NonConvex to value 2\n",
      "Set parameter TimeLimit to value 1\n",
      "Gurobi Optimizer version 9.5.2 build v9.5.2rc0 (mac64[rosetta2])\n",
      "Thread count: 8 physical cores, 8 logical processors, using up to 8 threads\n",
      "Optimize a model with 2 rows, 552 columns and 505 nonzeros\n",
      "Model fingerprint: 0x3da16e7e\n",
      "Model has 48 quadratic constraints\n",
      "Variable types: 48 continuous, 504 integer (504 binary)\n",
      "Coefficient statistics:\n",
      "  Matrix range     [1e+00, 1e+00]\n",
      "  QMatrix range    [6e-02, 1e+00]\n",
      "  QLMatrix range   [6e-01, 5e+02]\n",
      "  Objective range  [1e+00, 1e+00]\n",
      "  Bounds range     [1e+00, 1e+00]\n",
      "  RHS range        [5e+02, 5e+02]\n",
      "\n",
      "User MIP start produced solution with objective 476 (0.01s)\n",
      "Loaded user MIP start with objective 476\n",
      "\n",
      "Presolve removed 2 rows and 0 columns\n",
      "Presolve time: 0.00s\n",
      "Presolved: 3184 rows, 5256 columns, 14336 nonzeros\n",
      "Presolved model has 3136 SOS constraint(s)\n",
      "Variable types: 3184 continuous, 2072 integer (2072 binary)\n",
      "\n",
      "Root relaxation: objective 5.040000e+02, 47 iterations, 0.00 seconds (0.00 work units)\n",
      "\n",
      "    Nodes    |    Current Node    |     Objective Bounds      |     Work\n",
      " Expl Unexpl |  Obj  Depth IntInf | Incumbent    BestBd   Gap | It/Node Time\n",
      "\n",
      "     0     0  504.00000    0   47  476.00000  504.00000  5.88%     -    0s\n",
      "     0     0  504.00000    0   47  476.00000  504.00000  5.88%     -    0s\n",
      "     0     2  504.00000    0   47  476.00000  504.00000  5.88%     -    0s\n",
      "\n",
      "Explored 133 nodes (306 simplex iterations) in 1.02 seconds (0.56 work units)\n",
      "Thread count was 8 (of 8 available processors)\n",
      "\n",
      "Solution count 1: 476 \n",
      "\n",
      "Time limit reached\n",
      "Best objective 4.760000000000e+02, best bound 5.040000000000e+02, gap 5.8824%\n"
     ]
    }
   ],
   "source": [
    "eubank_sol_int=auditor_tools.solve_regression_integral(X, Y, intercept=False, time_limit=1,\n",
    "                             warm_start=[1 if eubank_sol[-2][x].X>.9 else 0 for x in range(len(eubank_sol[-2]))],\n",
    "                                 warm_start_ub=eubank_sol[3].ObjBound)"
   ]
  },
  {
   "cell_type": "code",
   "execution_count": 6,
   "id": "e3475b5f",
   "metadata": {},
   "outputs": [
    {
     "data": {
      "text/plain": [
       "-0.4108854399921711"
      ]
     },
     "execution_count": 6,
     "metadata": {},
     "output_type": "execute_result"
    }
   ],
   "source": [
    "algorithms.ols(X,Y,[x.X for x in eubank_sol_int[-2]])[-1]"
   ]
  },
  {
   "cell_type": "code",
   "execution_count": 17,
   "id": "e2a6cce4",
   "metadata": {},
   "outputs": [
    {
     "name": "stdout",
     "output_type": "stream",
     "text": [
      "Indices (in R) to remove\n",
      "365\n",
      "368\n",
      "369\n",
      "379\n",
      "380\n",
      "389\n",
      "409\n",
      "411\n",
      "416\n",
      "426\n",
      "429\n",
      "433\n",
      "440\n",
      "449\n",
      "453\n",
      "454\n",
      "459\n",
      "462\n",
      "466\n",
      "469\n",
      "478\n",
      "481\n",
      "484\n",
      "495\n",
      "496\n",
      "497\n",
      "499\n",
      "500\n"
     ]
    }
   ],
   "source": [
    "print('Indices (in R) to remove')\n",
    "for x in range(len(X)):\n",
    "    if eubank_sol_int[-2][x].X==0: print(x+1)"
   ]
  },
  {
   "cell_type": "code",
   "execution_count": 8,
   "id": "3621d18b",
   "metadata": {},
   "outputs": [
    {
     "name": "stdout",
     "output_type": "stream",
     "text": [
      "Total run time:  8.809056043624878\n"
     ]
    }
   ],
   "source": [
    "print('Total run time: ', time.time()-timer)"
   ]
  },
  {
   "cell_type": "markdown",
   "id": "ff300cb7",
   "metadata": {},
   "source": [
    "### Solutions obtained via different implementations of ZAM\n",
    "We first run our implementation of the usual ZAM algorithm (upper bound of 33); then run our resolving implementation (upper bound of 29); MR22's resolving implementation does not run on this instance because after removing some number of entries Cov turns into a singular matrix."
   ]
  },
  {
   "cell_type": "code",
   "execution_count": 9,
   "id": "3d66ec7e",
   "metadata": {
    "scrolled": false
   },
   "outputs": [
    {
     "name": "stdout",
     "output_type": "stream",
     "text": [
      "time taken:  0.9183611869812012\n"
     ]
    }
   ],
   "source": [
    "timer = time.time()\n",
    "t2,w2=auditor_tools.ZAMinfluence_upper_bound(X,Y)\n",
    "print('time taken: ', time.time()-timer)"
   ]
  },
  {
   "cell_type": "code",
   "execution_count": 10,
   "id": "161db9e1",
   "metadata": {},
   "outputs": [
    {
     "data": {
      "text/plain": [
       "-0.3726881955567478"
      ]
     },
     "execution_count": 10,
     "metadata": {},
     "output_type": "execute_result"
    }
   ],
   "source": [
    "algorithms.ols(X,Y,w2)[-1]"
   ]
  },
  {
   "cell_type": "code",
   "execution_count": 11,
   "id": "858faf8d",
   "metadata": {},
   "outputs": [
    {
     "name": "stdout",
     "output_type": "stream",
     "text": [
      "33\n"
     ]
    }
   ],
   "source": [
    "print(len(Y)-t2)"
   ]
  },
  {
   "cell_type": "code",
   "execution_count": 12,
   "id": "e853b7ce",
   "metadata": {},
   "outputs": [
    {
     "name": "stdout",
     "output_type": "stream",
     "text": [
      "time taken:  1.2219831943511963\n"
     ]
    }
   ],
   "source": [
    "timer = time.time()\n",
    "t1,w1=auditor_tools.ZAMinfluence_resolving(X,Y)\n",
    "print('time taken: ', time.time()-timer)"
   ]
  },
  {
   "cell_type": "code",
   "execution_count": 13,
   "id": "df6058e9",
   "metadata": {},
   "outputs": [
    {
     "data": {
      "text/plain": [
       "-1.7045472787226572"
      ]
     },
     "execution_count": 13,
     "metadata": {},
     "output_type": "execute_result"
    }
   ],
   "source": [
    "algorithms.ols(X,Y,w1)[-1]"
   ]
  },
  {
   "cell_type": "code",
   "execution_count": 14,
   "id": "ab33ac7b",
   "metadata": {},
   "outputs": [
    {
     "name": "stdout",
     "output_type": "stream",
     "text": [
      "29\n"
     ]
    }
   ],
   "source": [
    "print(len(Y)-t1)"
   ]
  },
  {
   "cell_type": "code",
   "execution_count": 16,
   "id": "e0683dd2",
   "metadata": {},
   "outputs": [
    {
     "name": "stdout",
     "output_type": "stream",
     "text": [
      "0.2193312453076213\n",
      "time taken:  0.22248315811157227\n"
     ]
    }
   ],
   "source": [
    "## And our spectral certifier\n",
    "timer = time.time()\n",
    "print(auditor_tools.spectral_certify(X,Y))\n",
    "print('time taken: ', time.time()-timer)"
   ]
  },
  {
   "cell_type": "code",
   "execution_count": 17,
   "id": "2eabae8e",
   "metadata": {},
   "outputs": [
    {
     "ename": "LinAlgError",
     "evalue": "Singular matrix",
     "output_type": "error",
     "traceback": [
      "\u001b[0;31m---------------------------------------------------------------------------\u001b[0m",
      "\u001b[0;31mLinAlgError\u001b[0m                               Traceback (most recent call last)",
      "Input \u001b[0;32mIn [17]\u001b[0m, in \u001b[0;36m<cell line: 4>\u001b[0;34m()\u001b[0m\n\u001b[1;32m      2\u001b[0m \u001b[38;5;28;01mimport\u001b[39;00m \u001b[38;5;21;01mcopy\u001b[39;00m\n\u001b[1;32m      3\u001b[0m Xflipped \u001b[38;5;241m=\u001b[39m copy\u001b[38;5;241m.\u001b[39mdeepcopy(np\u001b[38;5;241m.\u001b[39mflip(X,axis\u001b[38;5;241m=\u001b[39m\u001b[38;5;241m1\u001b[39m))\n\u001b[0;32m----> 4\u001b[0m \u001b[43malgorithms\u001b[49m\u001b[38;5;241;43m.\u001b[39;49m\u001b[43msensitivity\u001b[49m\u001b[43m(\u001b[49m\u001b[43mXflipped\u001b[49m\u001b[43m,\u001b[49m\u001b[43mY\u001b[49m\u001b[43m)\u001b[49m\n",
      "File \u001b[0;32m~/Desktop/Sam_Collaboration/robustness-auditing/code/notebooks/../MoitraRohatgi/algorithms.py:68\u001b[0m, in \u001b[0;36msensitivity\u001b[0;34m(X, y, threshold)\u001b[0m\n\u001b[1;32m     65\u001b[0m     y \u001b[38;5;241m=\u001b[39m \u001b[38;5;241m-\u001b[39my\n\u001b[1;32m     66\u001b[0m \u001b[38;5;28;01mfor\u001b[39;00m j \u001b[38;5;129;01min\u001b[39;00m \u001b[38;5;28mrange\u001b[39m(n):\n\u001b[1;32m     67\u001b[0m     \u001b[38;5;66;03m# sort samples by influence\u001b[39;00m\n\u001b[0;32m---> 68\u001b[0m     psi \u001b[38;5;241m=\u001b[39m \u001b[43minfluences\u001b[49m\u001b[43m(\u001b[49m\u001b[43mX\u001b[49m\u001b[43m,\u001b[49m\u001b[43my\u001b[49m\u001b[43m)\u001b[49m\n\u001b[1;32m     69\u001b[0m     inf_order \u001b[38;5;241m=\u001b[39m np\u001b[38;5;241m.\u001b[39margsort(psi)[::\u001b[38;5;241m-\u001b[39m\u001b[38;5;241m1\u001b[39m]\n\u001b[1;32m     70\u001b[0m     \u001b[38;5;66;03m# zero out weight of most influential sample\u001b[39;00m\n",
      "File \u001b[0;32m~/Desktop/Sam_Collaboration/robustness-auditing/code/notebooks/../MoitraRohatgi/algorithms.py:41\u001b[0m, in \u001b[0;36minfluences\u001b[0;34m(X, y)\u001b[0m\n\u001b[1;32m     39\u001b[0m n \u001b[38;5;241m=\u001b[39m X\u001b[38;5;241m.\u001b[39mshape[\u001b[38;5;241m0\u001b[39m]\n\u001b[1;32m     40\u001b[0m Sigma \u001b[38;5;241m=\u001b[39m X\u001b[38;5;241m.\u001b[39mT \u001b[38;5;241m@\u001b[39m X\n\u001b[0;32m---> 41\u001b[0m v \u001b[38;5;241m=\u001b[39m \u001b[43mnp\u001b[49m\u001b[38;5;241;43m.\u001b[39;49m\u001b[43mlinalg\u001b[49m\u001b[38;5;241;43m.\u001b[39;49m\u001b[43minv\u001b[49m\u001b[43m(\u001b[49m\u001b[43mSigma\u001b[49m\u001b[43m)\u001b[49m[\u001b[38;5;241m0\u001b[39m]\n\u001b[1;32m     42\u001b[0m beta \u001b[38;5;241m=\u001b[39m ols(X, y, np\u001b[38;5;241m.\u001b[39mones(n))\n\u001b[1;32m     43\u001b[0m psi \u001b[38;5;241m=\u001b[39m np\u001b[38;5;241m.\u001b[39mzeros((n))\n",
      "File \u001b[0;32m<__array_function__ internals>:5\u001b[0m, in \u001b[0;36minv\u001b[0;34m(*args, **kwargs)\u001b[0m\n",
      "File \u001b[0;32m~/opt/anaconda3/lib/python3.9/site-packages/numpy/linalg/linalg.py:545\u001b[0m, in \u001b[0;36minv\u001b[0;34m(a)\u001b[0m\n\u001b[1;32m    543\u001b[0m signature \u001b[38;5;241m=\u001b[39m \u001b[38;5;124m'\u001b[39m\u001b[38;5;124mD->D\u001b[39m\u001b[38;5;124m'\u001b[39m \u001b[38;5;28;01mif\u001b[39;00m isComplexType(t) \u001b[38;5;28;01melse\u001b[39;00m \u001b[38;5;124m'\u001b[39m\u001b[38;5;124md->d\u001b[39m\u001b[38;5;124m'\u001b[39m\n\u001b[1;32m    544\u001b[0m extobj \u001b[38;5;241m=\u001b[39m get_linalg_error_extobj(_raise_linalgerror_singular)\n\u001b[0;32m--> 545\u001b[0m ainv \u001b[38;5;241m=\u001b[39m \u001b[43m_umath_linalg\u001b[49m\u001b[38;5;241;43m.\u001b[39;49m\u001b[43minv\u001b[49m\u001b[43m(\u001b[49m\u001b[43ma\u001b[49m\u001b[43m,\u001b[49m\u001b[43m \u001b[49m\u001b[43msignature\u001b[49m\u001b[38;5;241;43m=\u001b[39;49m\u001b[43msignature\u001b[49m\u001b[43m,\u001b[49m\u001b[43m \u001b[49m\u001b[43mextobj\u001b[49m\u001b[38;5;241;43m=\u001b[39;49m\u001b[43mextobj\u001b[49m\u001b[43m)\u001b[49m\n\u001b[1;32m    546\u001b[0m \u001b[38;5;28;01mreturn\u001b[39;00m wrap(ainv\u001b[38;5;241m.\u001b[39mastype(result_t, copy\u001b[38;5;241m=\u001b[39m\u001b[38;5;28;01mFalse\u001b[39;00m))\n",
      "File \u001b[0;32m~/opt/anaconda3/lib/python3.9/site-packages/numpy/linalg/linalg.py:88\u001b[0m, in \u001b[0;36m_raise_linalgerror_singular\u001b[0;34m(err, flag)\u001b[0m\n\u001b[1;32m     87\u001b[0m \u001b[38;5;28;01mdef\u001b[39;00m \u001b[38;5;21m_raise_linalgerror_singular\u001b[39m(err, flag):\n\u001b[0;32m---> 88\u001b[0m     \u001b[38;5;28;01mraise\u001b[39;00m LinAlgError(\u001b[38;5;124m\"\u001b[39m\u001b[38;5;124mSingular matrix\u001b[39m\u001b[38;5;124m\"\u001b[39m)\n",
      "\u001b[0;31mLinAlgError\u001b[0m: Singular matrix"
     ]
    }
   ],
   "source": [
    "## We also run the MR implementation of KZC21 to show that it crashes\n",
    "Xflipped = copy.deepcopy(np.flip(X,axis=1))\n",
    "algorithms.sensitivity(Xflipped,Y)"
   ]
  },
  {
   "cell_type": "code",
   "execution_count": 3,
   "id": "1b0f4f69",
   "metadata": {
    "scrolled": false
   },
   "outputs": [
    {
     "name": "stdout",
     "output_type": "stream",
     "text": [
      "Set parameter Username\n",
      "Academic license - for non-commercial use only - expires 2023-08-04\n",
      "Set parameter NonConvex to value 2\n",
      "Set parameter TimeLimit to value 10000\n",
      "Gurobi Optimizer version 9.5.2 build v9.5.2rc0 (mac64[rosetta2])\n",
      "Thread count: 8 physical cores, 8 logical processors, using up to 8 threads\n",
      "Optimize a model with 1 rows, 552 columns and 1 nonzeros\n",
      "Model fingerprint: 0x6f732135\n",
      "Model has 48 quadratic constraints\n",
      "Variable types: 48 continuous, 504 integer (504 binary)\n",
      "Coefficient statistics:\n",
      "  Matrix range     [1e+00, 1e+00]\n",
      "  QMatrix range    [6e-02, 1e+00]\n",
      "  QLMatrix range   [6e-01, 5e+02]\n",
      "  Objective range  [1e+00, 1e+00]\n",
      "  Bounds range     [1e+00, 1e+00]\n",
      "  RHS range        [0e+00, 0e+00]\n",
      "Found heuristic solution: objective -0.0000000\n",
      "Presolve removed 1 rows and 0 columns\n",
      "Presolve time: 0.00s\n",
      "Presolved: 3184 rows, 5256 columns, 14336 nonzeros\n",
      "Presolved model has 3136 SOS constraint(s)\n",
      "Variable types: 3184 continuous, 2072 integer (2072 binary)\n",
      "\n",
      "Root relaxation: objective 5.040000e+02, 47 iterations, 0.00 seconds (0.00 work units)\n",
      "\n",
      "    Nodes    |    Current Node    |     Objective Bounds      |     Work\n",
      " Expl Unexpl |  Obj  Depth IntInf | Incumbent    BestBd   Gap | It/Node Time\n",
      "\n",
      "     0     0  504.00000    0   47   -0.00000  504.00000      -     -    0s\n",
      "     0     0  504.00000    0   47   -0.00000  504.00000      -     -    0s\n",
      "     0     2  504.00000    0   47   -0.00000  504.00000      -     -    0s\n",
      "H  119   132                       1.0000000  504.00000      -   1.9    0s\n",
      "H  269   276                       2.0000000  504.00000      -   1.8    0s\n",
      "H 1325  1334                       3.0000000  504.00000      -   1.9    1s\n",
      "H 1326  1334                      21.0000000  504.00000  2300%   1.9    1s\n",
      "H 1332  1334                      23.0000000  504.00000  2091%   1.9    1s\n",
      "* 1902  1902             481      24.0000000  504.00000  2000%   1.9    2s\n",
      "* 1967  1959             484      25.0000000  504.00000  1916%   2.0    2s\n",
      "* 2042  2028             489      26.0000000  504.00000  1838%   2.3    2s\n",
      "H 3755  3617                      31.0000000  504.00000  1526%   2.1    4s\n",
      "  3771  3694  500.00000  197  120   31.00000  504.00000  1526%   2.1    5s\n",
      "H 6210  5996                      32.0000000  504.00000  1475%   2.0    7s\n",
      "  7642  7285  501.00000   30  110   32.00000  504.00000  1475%   2.0   10s\n",
      "H 8828  7714                      33.0000000  504.00000  1427%   2.0   11s\n",
      "* 9131  7579             484      34.0000000  504.00000  1382%   2.0   11s\n",
      "* 9193  7297             486      35.0000000  504.00000  1340%   2.0   11s\n",
      "* 9261  7038             492      36.0000000  504.00000  1300%   2.1   11s\n",
      "H10652  7662                      37.0000000  504.00000  1262%   2.1   12s\n",
      " 12346  8841  500.00000  315  237   37.00000  504.00000  1262%   2.0   15s\n",
      "H13597  9173                      40.0000000  504.00000  1160%   2.0   16s\n",
      " 16492 11442  465.00000   56  100   40.00000  503.00000  1158%   2.0   20s\n",
      "*16916 11039             480      41.0000000  503.00000  1127%   2.0   20s\n",
      "*17676 11169             503      42.0000000  503.00000  1098%   2.1   20s\n",
      "*19291 11037             508      43.0000000  503.00000  1070%   2.1   23s\n",
      "*19310 10806             517      44.0000000  503.00000  1043%   2.1   23s\n",
      "H20756 11133                      45.0000000  503.00000  1018%   2.0   24s\n",
      " 21015 11863  501.00000  390  270   45.00000  503.00000  1018%   2.0   30s\n",
      " 21865 12869  502.00000  439   81   45.00000  503.00000  1018%   2.2   36s\n",
      "H22022 12866                      46.0000000  503.00000   993%   2.2   36s\n",
      "H23177 13685                      47.0000000  503.00000   970%   2.2   37s\n",
      "H23370 13682                      48.0000000  503.00000   948%   2.2   37s\n",
      " 24255 15027 infeasible  517        48.00000  503.00000   948%   2.2   45s\n",
      "H24452 15023                      49.0000000  503.00000   927%   2.2   45s\n",
      " 26008 15632  342.00000  340  203   49.00000  503.00000   927%   2.4   60s\n",
      "H26340 15628                      50.0000000  503.00000   906%   2.5   60s\n",
      " 27087 16484  500.00000  474  103   50.00000  503.00000   906%   2.6   79s\n",
      "H28177 16476                      52.0000000  503.00000   867%   2.6   79s\n",
      " 28645 17574  449.00000   80  120   52.00000  503.00000   867%   2.7   98s\n",
      "*29041 17569             476      53.0000000  503.00000   849%   2.7   98s\n",
      "*30098 17564             517      54.0000000  503.00000   831%   2.8   98s\n",
      " 30121 17985     cutoff  512        54.00000  503.00000   831%   2.8  115s\n",
      "H30181 17964                      57.0000000  503.00000   782%   2.8  115s\n",
      " 30608 18368  500.00000  383  203   57.00000  503.00000   782%   2.8  132s\n",
      " 31078 18891  501.00000  414  170   57.00000  503.00000   782%   2.8  153s\n",
      "H31308 18884                      58.0000000  503.00000   767%   2.8  153s\n",
      " 31651 19342  500.00000  447  135   58.00000  503.00000   767%   2.8  171s\n",
      " 32191 19685  500.00000  498   37   58.00000  503.00000   767%   2.8  192s\n",
      " 32862 20314 infeasible  517        58.00000  503.00000   767%   2.7  209s\n",
      " 33739 20982 infeasible  517        58.00000  503.00000   767%   2.7  234s\n",
      " 34661 21385  501.00000  258  151   58.00000  503.00000   767%   2.7  256s\n",
      " 35266 21903  501.00000  299  157   58.00000  503.00000   767%   2.7  279s\n",
      "H35321 21896                      59.0000000  503.00000   753%   2.7  279s\n",
      " 35962 22412  500.00000  322  198   59.00000  503.00000   753%   2.7  300s\n",
      "H36020 22398                      61.0000000  503.00000   725%   2.7  300s\n",
      "H36726 22855                      64.0000000  503.00000   686%   2.6  322s\n",
      "H37175 22848                      65.0000000  503.00000   674%   2.6  322s\n",
      " 37341 23475  500.00000  392  139   65.00000  503.00000   674%   2.6  348s\n",
      " 37992 23602  500.00000  442   95   65.00000  503.00000   674%   2.6  358s\n",
      " 38123 24360  501.00000  448   83   65.00000  503.00000   674%   2.6  386s\n",
      " 39085 25294 infeasible  517        65.00000  503.00000   674%   2.6  415s\n",
      " 40499 26242  383.00000  514    9   65.00000  503.00000   674%   2.6  441s\n",
      " 41805 27035  501.00000  203  169   65.00000  503.00000   674%   2.5  473s\n",
      " 42820 28251  501.00000  275  395   65.00000  503.00000   674%   2.5  504s\n",
      " 44620 29417  501.00000  343  211   65.00000  503.00000   674%   2.5  535s\n",
      " 46380 31394  501.00000  433  112   65.00000  503.00000   674%   2.5  560s\n",
      "*48241 31387             497      66.0000000  503.00000   662%   2.6  560s\n",
      " 48943 32125 infeasible  517        66.00000  503.00000   662%   2.6  582s\n",
      "*49783 32117             483      67.0000000  503.00000   651%   2.6  582s\n",
      " 50097 32796  501.00000  408  134   67.00000  503.00000   651%   2.6  605s\n",
      " 50818 32943  500.00000  444  118   67.00000  503.00000   651%   2.6  612s\n",
      " 50967 33689  501.00000  450  107   67.00000  503.00000   651%   2.6  638s\n",
      " 51893 34536 infeasible  517        67.00000  503.00000   651%   2.6  658s\n",
      "H52765 34527                      68.0000000  503.00000   640%   2.6  658s\n",
      " 53100 35260  495.00000  502   30   68.00000  503.00000   640%   2.6  683s\n",
      " 54387 36066  502.00000  378  307   68.00000  503.00000   640%   2.5  704s\n",
      "H55288 36056                      69.0000000  503.00000   629%   2.6  704s\n",
      " 55591 37217  400.00000  311  217   69.00000  503.00000   629%   2.5  728s\n",
      " 57464 38336   94.00000  513    8   69.00000  503.00000   629%   2.6  751s\n",
      " 58957 38968  501.00000  459   87   69.00000  503.00000   629%   2.6  776s\n",
      " 60051 39921 infeasible  517        69.00000  503.00000   629%   2.5  802s\n",
      " 61596 40772  502.00000  123  153   69.00000  503.00000   629%   2.5  815s\n",
      " 62717 41825  502.00000  409  158   69.00000  503.00000   629%   2.5  835s\n",
      " 64042 42916  500.00000  424  222   69.00000  503.00000   629%   2.5  863s\n",
      "*65494 42906             488      70.0000000  503.00000   619%   2.5  863s\n",
      " 65597 43487  501.00000  478   67   70.00000  503.00000   619%   2.5  886s\n",
      " 66300 44121  499.00000  515    6   70.00000  503.00000   619%   2.5  910s\n",
      " 67214 44812  499.00000  515    6   70.00000  503.00000   619%   2.5  929s\n",
      " 68311 45735  502.00000  438  108   70.00000  503.00000   619%   2.5  958s\n",
      " 69570 46455  502.00000  507   12   70.00000  503.00000   619%   2.5  983s\n",
      " 70640 47064 infeasible  517        70.00000  503.00000   619%   2.5 1008s\n",
      " 71341 47819  493.00000  105  127   70.00000  503.00000   619%   2.5 1036s\n",
      " 72186 48838  474.00000  140  205   70.00000  503.00000   619%   2.5 1065s\n"
     ]
    },
    {
     "name": "stdout",
     "output_type": "stream",
     "text": [
      " 73569 49734  464.00000  159  305   70.00000  503.00000   619%   2.5 1081s\n",
      " 74751 50399  451.00000  177  304   70.00000  503.00000   619%   2.5 1108s\n",
      " 76138 52298  440.00000  193  314   70.00000  503.00000   619%   2.5 1138s\n",
      " 78795 53599  434.00000  209  360   70.00000  503.00000   619%   2.5 1163s\n",
      "H79364 53589                      71.0000000  503.00000   608%   2.5 1163s\n",
      "H79491 53578                      72.0000000  503.00000   599%   2.5 1163s\n",
      " 80676 53608  431.00000  214  356   72.00000  503.00000   599%   2.6 1166s\n",
      " 80710 53856  431.00000  215  355   72.00000  503.00000   599%   2.6 1176s\n",
      " 80966 54333  425.00000  221  343   72.00000  503.00000   599%   2.5 1200s\n",
      " 81761 55589  421.00000  230  353   72.00000  503.00000   599%   2.5 1221s\n",
      "*82626 55572             490      73.0000000  503.00000   589%   2.6 1221s\n",
      " 83381 56531  417.00000  239  351   73.00000  503.00000   589%   2.6 1246s\n",
      " 84628 57302  412.00000  245  345   73.00000  503.00000   589%   2.6 1269s\n",
      " 85521 57892  407.00000  261  391   73.00000  503.00000   589%   2.6 1304s\n",
      "H86641 59090                      76.0000000  503.00000   562%   2.6 1330s\n",
      "H87382 58900                      86.0000000  503.00000   485%   2.6 1330s\n",
      "H87490 58601                      99.0000000  503.00000   408%   2.6 1330s\n",
      " 88470 59890  397.00000  289  386   99.00000  503.00000   408%   2.5 1356s\n",
      "H88515 58758                     141.0000000  503.00000   257%   2.5 1356s\n",
      " 90632 59571  391.00000  305  397  141.00000  503.00000   257%   2.5 1375s\n",
      "H90662 59540                     142.0000000  503.00000   254%   2.5 1375s\n",
      "H90951 59249                     151.0000000  503.00000   233%   2.5 1375s\n",
      "H91189 59150                     154.0000000  503.00000   227%   2.5 1375s\n",
      "H91873 59247                     185.0000000  503.00000   172%   2.6 1399s\n",
      "H93662 59874                     187.0000000  503.00000   169%   2.6 1418s\n",
      " 94588 60578  385.00000  325  378  187.00000  503.00000   169%   2.6 1443s\n",
      "H95478 60759                     188.0000000  503.00000   168%   2.6 1467s\n",
      " 95953 61490  378.00000  338  322  188.00000  503.00000   168%   2.7 1492s\n",
      "H96876 62540                     189.0000000  503.00000   166%   2.7 1521s\n",
      " 98188 63080  366.00000  356  305  189.00000  503.00000   166%   2.7 1544s\n",
      " 98976 63576  363.00000  363  459  189.00000  503.00000   166%   2.8 1574s\n",
      "H99253 63537                     190.0000000  503.00000   165%   2.8 1574s\n",
      "H99766 63495                     191.0000000  503.00000   163%   2.8 1574s\n",
      " 99814 63791  357.00000  366  450  191.00000  503.00000   163%   2.9 1587s\n",
      " 100142 64248  357.00000  367  293  191.00000  503.00000   163%   2.9 1622s\n",
      "H100573 64158                     193.0000000  503.00000   161%   2.9 1622s\n",
      "H100844 64111                     194.0000000  503.00000   159%   2.9 1622s\n",
      " 101049 65207  353.00000  377  277  194.00000  503.00000   159%   2.9 1650s\n",
      "H102513 65911                     195.0000000  503.00000   158%   2.9 1678s\n",
      "H102768 65864                     196.0000000  503.00000   157%   2.9 1678s\n",
      " 103626 66636  339.00000  399  330  196.00000  503.00000   157%   2.9 1709s\n",
      " 105082 67065  334.00000  414  182  196.00000  503.00000   157%   3.0 1734s\n",
      "H105153 67016                     197.0000000  503.00000   155%   3.0 1734s\n",
      " 105809 68064  325.00000  427  161  197.00000  503.00000   155%   3.0 1761s\n",
      " 107039 68389  321.00000  441  133  197.00000  503.00000   155%   3.1 1793s\n",
      "H107231 68340                     198.0000000  503.00000   154%   3.1 1793s\n",
      "H107464 68289                     199.0000000  503.00000   153%   3.2 1793s\n",
      " 107702 68971  317.00000  455  183  199.00000  503.00000   153%   3.2 1821s\n",
      "H107946 67068                     233.0000000  503.00000   116%   3.2 1821s\n",
      "H108504 67423                     238.0000000  503.00000   111%   3.2 1853s\n",
      "H108672 67360                     239.0000000  503.00000   110%   3.2 1853s\n",
      " 109375 68495  295.00000  498   38  239.00000  503.00000   110%   3.1 1885s\n",
      " 110798 69134 infeasible  517       239.00000  503.00000   110%   3.1 1907s\n",
      "H110799 68945                     242.0000000  503.00000   108%   3.1 1907s\n",
      "H111057 68881                     243.0000000  503.00000   107%   3.1 1907s\n",
      "H111113 68817                     244.0000000  503.00000   106%   3.1 1907s\n",
      "H111153 68689                     246.0000000  503.00000   104%   3.1 1907s\n",
      " 111685 69280 infeasible  513       246.00000  503.00000   104%   3.2 1941s\n",
      "H112610 69872                     247.0000000  503.00000   104%   3.2 1977s\n",
      "H112661 69677                     250.0000000  503.00000   101%   3.2 1977s\n",
      "H112713 69547                     252.0000000  503.00000   100%   3.2 1977s\n",
      " 113545 70318  501.00000  311  215  252.00000  503.00000   100%   3.2 2014s\n",
      "H113835 70253                     253.0000000  503.00000  98.8%   3.2 2014s\n",
      "H114822 70846                     256.0000000  503.00000  96.5%   3.2 2059s\n",
      "H114858 70714                     258.0000000  503.00000  95.0%   3.2 2059s\n",
      " 116021 71997  502.00000  351  358  258.00000  503.00000  95.0%   3.3 2090s\n",
      "H117512 72242                     262.0000000  503.00000  92.0%   3.2 2120s\n",
      " 118253 73044  502.00000  397  156  262.00000  503.00000  92.0%   3.3 2152s\n",
      "H119525 73598                     264.0000000  503.00000  90.5%   3.3 2188s\n",
      "H120105 73377                     267.0000000  503.00000  88.4%   3.3 2188s\n",
      "H120225 73303                     268.0000000  503.00000  87.7%   3.3 2188s\n",
      " 120393 74246  502.00000  498   21  268.00000  503.00000  87.7%   3.3 2229s\n",
      "H120797 72246                     293.0000000  503.00000  71.7%   3.4 2229s\n",
      "H121397 71594                     300.0000000  503.00000  67.7%   3.4 2229s\n",
      " 121514 71713 infeasible  517       300.00000  503.00000  67.7%   3.4 2238s\n",
      "H121542 70072                     315.0000000  503.00000  59.7%   3.4 2238s\n",
      "H121552 69960                     316.0000000  503.00000  59.2%   3.4 2238s\n",
      "\n",
      "Explored 121709 nodes (408751 simplex iterations) in 2238.54 seconds (240.29 work units)\n",
      "Thread count was 8 (of 8 available processors)\n",
      "\n",
      "Solution count 10: 316 315 300 ... 256\n",
      "\n",
      "Solve interrupted\n",
      "Best objective 3.160000000000e+02, best bound 5.030000000000e+02, gap 59.1772%\n"
     ]
    }
   ],
   "source": [
    "# we also run gurobi integral without a warm start to show that it is much slower\n",
    "eubank_sol_int=auditor_tools.solve_regression_integral(X, Y, intercept=False, time_limit=10000,\n",
    "                             warm_start=None,warm_start_ub=None)"
   ]
  }
 ],
 "metadata": {
  "kernelspec": {
   "display_name": "Python 3 (ipykernel)",
   "language": "python",
   "name": "python3"
  },
  "language_info": {
   "codemirror_mode": {
    "name": "ipython",
    "version": 3
   },
   "file_extension": ".py",
   "mimetype": "text/x-python",
   "name": "python",
   "nbconvert_exporter": "python",
   "pygments_lexer": "ipython3",
   "version": "3.9.12"
  }
 },
 "nbformat": 4,
 "nbformat_minor": 5
}
