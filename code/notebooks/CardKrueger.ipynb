{
 "cells": [
  {
   "cell_type": "code",
   "execution_count": 1,
   "id": "f031f49f",
   "metadata": {},
   "outputs": [],
   "source": [
    "import numpy as np\n",
    "import copy\n",
    "import matplotlib.pyplot as plt\n",
    "import time\n",
    "\n",
    "import sys\n",
    "sys.path.append('../MoitraRohatgi/')\n",
    "sys.path.append('../')\n",
    "import auditor_tools\n",
    "import algorithms\n",
    "import experiments\n",
    "import examples\n",
    "import our_experiments"
   ]
  },
  {
   "cell_type": "markdown",
   "id": "2baf3519",
   "metadata": {},
   "source": [
    "Our data is downloaded from https://docs.google.com/uc?id=10h_5og14wbNHU-lapQaS1W6SBdzI7W6Z&export=download\"), corresponding to Carl Bauer's Applied Causal Analysis (with R)."
   ]
  },
  {
   "cell_type": "markdown",
   "id": "325ca9fa",
   "metadata": {},
   "source": [
    "### Preprocessing\n",
    "\n",
    "To create a clean instance, we drop all stores where there is a NaN in either employment before or after; this means our regression is on a slightly different data-set than the one by Card & Krueger (recall that this only serves as a proof-of-concept). The resulting lists contain the delta-values (see writeup), appropriately ordered (decreasing/increasing).\n",
    "\n",
    "As we create these tables, we also match the data in Table 2 of Card and Krueger\n",
    "(https://davidcard.berkeley.edu/papers/njmin-aer.pdf)."
   ]
  },
  {
   "cell_type": "code",
   "execution_count": 2,
   "id": "56b27366",
   "metadata": {},
   "outputs": [
    {
     "name": "stdout",
     "output_type": "stream",
     "text": [
      "NJ mean numbers\n",
      "x_co_owned                    0.341390\n",
      "x_southern_nj                 0.280967\n",
      "x_central_nj                  0.190332\n",
      "x_northeast_philadelphia      0.000000\n",
      "x_easton_philadelphia         0.000000\n",
      "x_st_wage_before              4.612134\n",
      "x_st_wage_after               5.080849\n",
      "x_hrs_open_weekday_before    14.418429\n",
      "x_hrs_open_weekday_after     14.419782\n",
      "y_ft_employment_before       20.439408\n",
      "y_ft_employment_after        21.027429\n",
      "d_nj                          1.000000\n",
      "d_pa                          0.000000\n",
      "x_burgerking                  0.410876\n",
      "x_kfc                         0.205438\n",
      "x_roys                        0.247734\n",
      "x_wendys                      0.135952\n",
      "x_closed_permanently          0.015106\n",
      "dtype: float64\n",
      "PA mean numbers\n",
      "x_co_owned                    0.354430\n",
      "x_southern_nj                 0.000000\n",
      "x_central_nj                  0.000000\n",
      "x_northeast_philadelphia      0.455696\n",
      "x_easton_philadelphia         0.544304\n",
      "x_st_wage_before              4.630132\n",
      "x_st_wage_after               4.617465\n",
      "x_hrs_open_weekday_before    14.525316\n",
      "x_hrs_open_weekday_after     14.653846\n",
      "y_ft_employment_before       23.331169\n",
      "y_ft_employment_after        21.165584\n",
      "d_nj                          0.000000\n",
      "d_pa                          1.000000\n",
      "x_burgerking                  0.443038\n",
      "x_kfc                         0.151899\n",
      "x_roys                        0.215190\n",
      "x_wendys                      0.189873\n",
      "x_closed_permanently          0.012658\n",
      "dtype: float64\n",
      "Head of dataframe after editing\n",
      "     d_pa  y_ft_employment_before  y_ft_employment_after  delta\n",
      "92      0                    19.0                   53.0   34.0\n",
      "320     0                    19.5                   47.5   28.0\n",
      "246     0                    36.5                   60.5   24.0\n",
      "305     0                    14.0                   37.5   23.5\n",
      "229     0                    22.5                   44.0   21.5\n",
      "OLS before removing samples [23.38       -2.94941748 -2.28333333  2.75      ]\n"
     ]
    }
   ],
   "source": [
    "delta_pa, delta_nj, df2 = our_experiments.LoadCardKruegerData()"
   ]
  },
  {
   "cell_type": "markdown",
   "id": "97e2e2f3",
   "metadata": {},
   "source": [
    "The 2.75 is close to the coefficient in FTE is close to (but not exactly) the change detected by Card & Krueger (2.76) with the difference likely due to  the fact that we dropped stores where the row contained a NaN for FTE in either before or after. We now want to detect how many stores we need to remove the before/after samples from to flip the 2.75 sign."
   ]
  },
  {
   "cell_type": "code",
   "execution_count": 3,
   "id": "03ec0576",
   "metadata": {},
   "outputs": [
    {
     "name": "stdout",
     "output_type": "stream",
     "text": [
      "Number of observation pairs to remove:  10\n",
      "treated removed:  []\n",
      "untreated removed:  [-18.0, -18.0, -18.5, -18.5, -20.0, -21.5, -29.0, -41.5]\n",
      "Total time:  0.000s\n"
     ]
    }
   ],
   "source": [
    "start = time.time()\n",
    "auditor_tools.solve_diff_in_diff(delta_pa,delta_nj)\n",
    "print('Total time: ',str(time.time()-start)[:5]+'s')"
   ]
  },
  {
   "cell_type": "markdown",
   "id": "b50403b9",
   "metadata": {},
   "source": [
    "### This means the coefficient flips if we keep all NJ stores and remove the 10 PA stores with the smallest $\\Delta$.\n",
    "Running the regression with those 10 stores removed, we find that the OLS solution indeed has the sign of the diff-in-diff estimator flip. "
   ]
  },
  {
   "cell_type": "code",
   "execution_count": 4,
   "id": "52021fea",
   "metadata": {},
   "outputs": [
    {
     "data": {
      "text/plain": [
       "array([20.17692308,  0.25365945,  0.72692308, -0.26025641])"
      ]
     },
     "execution_count": 4,
     "metadata": {},
     "output_type": "execute_result"
    }
   ],
   "source": [
    "X,Y=our_experiments.LoadKruegerDataWith10PAStoresRemoved()\n",
    "algorithms.ols(X,Y,np.ones(len(X))) "
   ]
  },
  {
   "cell_type": "markdown",
   "id": "972cdbe5",
   "metadata": {},
   "source": [
    "This worked well; now, let's try the same in Gurobi."
   ]
  },
  {
   "cell_type": "markdown",
   "id": "440b17a7",
   "metadata": {},
   "source": [
    "### To run Gurobi on the same instance, we need to make sure we have the observation pairs that are jointly kept/dropped."
   ]
  },
  {
   "cell_type": "code",
   "execution_count": 5,
   "id": "dcb18e55",
   "metadata": {},
   "outputs": [],
   "source": [
    "# First we put the data back in the right format and create a list of pairs that have to get the same weight\n",
    "# i.e., each store has either its before and its after removed or neither\n",
    "data_X, data_Y = [], []\n",
    "counter = 0\n",
    "pairs = []\n",
    "for x in df2.index:\n",
    "    # Dummy for whether in NJ\n",
    "    NJ = 0 if df2.d_pa[x] else 1\n",
    "    # 1 for intercept, dummy for NJ, dummy for treatment and dummy for treatment*NJ\n",
    "    data_X.append([1,NJ, 0, 0])\n",
    "    counter+=1\n",
    "    data_Y.append(df2.y_ft_employment_before[x])\n",
    "    data_X.append([1,NJ, 1, NJ])\n",
    "    data_Y.append(df2.y_ft_employment_after[x])\n",
    "    pairs.append([counter-1,counter])\n",
    "    counter+=1\n",
    "X=np.array(data_X)\n",
    "Y=np.array(data_Y)"
   ]
  },
  {
   "cell_type": "markdown",
   "id": "7d7e3517",
   "metadata": {},
   "source": [
    "We then run Gurobi with those weights constrained to be equal (for the respective pairs) to show that it does not solve to optimality even given ample time."
   ]
  },
  {
   "cell_type": "code",
   "execution_count": 6,
   "id": "a993404a",
   "metadata": {
    "scrolled": false
   },
   "outputs": [
    {
     "name": "stdout",
     "output_type": "stream",
     "text": [
      "Set parameter Username\n",
      "Academic license - for non-commercial use only - expires 2023-08-04\n",
      "set residual constraints\n",
      "Set parameter NonConvex to value 2\n",
      "Set parameter TimeLimit to value 150\n",
      "start solving\n",
      "Gurobi Optimizer version 9.5.2 build v9.5.2rc0 (mac64[rosetta2])\n",
      "Thread count: 8 physical cores, 8 logical processors, using up to 8 threads\n",
      "Optimize a model with 1920 rows, 771 columns and 2304 nonzeros\n",
      "Model fingerprint: 0xcc0ddf0a\n",
      "Model has 4 quadratic constraints\n",
      "Coefficient statistics:\n",
      "  Matrix range     [1e+00, 1e+00]\n",
      "  QMatrix range    [1e+00, 1e+00]\n",
      "  QLMatrix range   [5e+00, 8e+01]\n",
      "  Objective range  [1e+00, 1e+00]\n",
      "  Bounds range     [0e+00, 0e+00]\n",
      "  RHS range        [1e+00, 1e+00]\n",
      "Presolve removed 1536 rows and 0 columns\n",
      "\n",
      "Continuous model is non-convex -- solving as a MIP\n",
      "\n",
      "Found heuristic solution: objective -0.0000000\n",
      "Presolve removed 1920 rows and 384 columns\n",
      "Presolve time: 0.01s\n",
      "Presolved: 4312 rows, 1465 columns, 13999 nonzeros\n",
      "Presolved model has 1077 bilinear constraint(s)\n",
      "Variable types: 1465 continuous, 0 integer (0 binary)\n",
      "\n",
      "Root relaxation: objective 7.680000e+02, 1801 iterations, 0.18 seconds (0.13 work units)\n",
      "\n",
      "    Nodes    |    Current Node    |     Objective Bounds      |     Work\n",
      " Expl Unexpl |  Obj  Depth IntInf | Incumbent    BestBd   Gap | It/Node Time\n",
      "\n",
      "     0     0  768.00000    0 1077   -0.00000  768.00000      -     -    0s\n",
      "H    0     0                     749.9941054  768.00000  2.40%     -    0s\n",
      "     0     0  768.00000    0 1077  749.99411  768.00000  2.40%     -    0s\n",
      "     0     2  768.00000    0 1077  749.99411  768.00000  2.40%     -    0s\n",
      "   322   279  756.56919   22  359  749.99411  756.56919  0.88%  98.4   18s\n",
      "H  362   279                     749.9941061  756.56919  0.88%   101   18s\n",
      "   529   415     cutoff   26       749.99411  756.56919  0.88%   128   21s\n",
      "   800   459  756.56919   22  746  749.99411  756.56919  0.88%   172   68s\n",
      "   936   508  756.56911   27  312  749.99411  756.56919  0.88%   212   92s\n",
      "  1095   526     cutoff   29       749.99411  756.56918  0.88%   225  132s\n",
      "  1247   584  756.56910   29  312  749.99411  756.56918  0.88%   273  150s\n",
      "\n",
      "Explored 1449 nodes (414090 simplex iterations) in 150.07 seconds (17.58 work units)\n",
      "Thread count was 8 (of 8 available processors)\n",
      "\n",
      "Solution count 2: 749.994 -0 \n",
      "\n",
      "Time limit reached\n",
      "Best objective 7.499941060904e+02, best bound 7.565691804140e+02, gap 0.8767%\n",
      "Current time:  150.6s\n",
      "Set parameter NonConvex to value 2\n",
      "Set parameter TimeLimit to value 150\n",
      "Gurobi Optimizer version 9.5.2 build v9.5.2rc0 (mac64[rosetta2])\n",
      "Thread count: 8 physical cores, 8 logical processors, using up to 8 threads\n",
      "Optimize a model with 386 rows, 772 columns and 1537 nonzeros\n",
      "Model fingerprint: 0x761b622e\n",
      "Model has 4 quadratic constraints\n",
      "Variable types: 4 continuous, 768 integer (768 binary)\n",
      "Coefficient statistics:\n",
      "  Matrix range     [1e+00, 1e+00]\n",
      "  QMatrix range    [1e+00, 1e+00]\n",
      "  QLMatrix range   [5e+00, 8e+01]\n",
      "  Objective range  [1e+00, 1e+00]\n",
      "  Bounds range     [1e+00, 1e+00]\n",
      "  RHS range        [8e+02, 8e+02]\n",
      "\n",
      "User MIP start produced solution with objective 748 (0.01s)\n",
      "Loaded user MIP start with objective 748\n",
      "\n",
      "Presolve removed 385 rows and 384 columns\n",
      "Presolve time: 0.01s\n",
      "Presolved: 2777 rows, 4546 columns, 13933 nonzeros\n",
      "Presolved model has 2772 SOS constraint(s)\n",
      "Variable types: 2776 continuous, 1770 integer (1770 binary)\n",
      "\n",
      "Root relaxation: objective 7.560000e+02, 800 iterations, 0.01 seconds (0.00 work units)\n",
      "\n",
      "    Nodes    |    Current Node    |     Objective Bounds      |     Work\n",
      " Expl Unexpl |  Obj  Depth IntInf | Incumbent    BestBd   Gap | It/Node Time\n",
      "\n",
      "     0     0  756.00000    0    4  748.00000  756.00000  1.07%     -    0s\n",
      "     0     0  756.00000    0    4  748.00000  756.00000  1.07%     -    0s\n",
      "     0     2  756.00000    0    4  748.00000  756.00000  1.07%     -    0s\n",
      "  5468  4592 infeasible  380       748.00000  756.00000  1.07%   8.2    5s\n",
      "  9923  7359  756.00000  264  128  748.00000  756.00000  1.07%  11.1   10s\n",
      " 14532  7920  756.00000  245  148  748.00000  756.00000  1.07%  13.8   15s\n",
      " 17482  7916  752.00000  381   14  748.00000  756.00000  1.07%  20.6   20s\n",
      " 21675  7371  756.00000  299   95  748.00000  756.00000  1.07%  24.7   26s\n",
      " 28226  8897 infeasible  340       748.00000  756.00000  1.07%  23.7   31s\n",
      " 34380  9859 infeasible  340       748.00000  756.00000  1.07%  23.3   35s\n",
      " 41187 12001  752.00000  348   47  748.00000  756.00000  1.07%  21.9   40s\n",
      " 45196 13466  752.00000  238  157  748.00000  756.00000  1.07%  22.8   46s\n",
      " 49450 15106  754.00000  232  163  748.00000  756.00000  1.07%  23.7   51s\n",
      " 52704 15499 infeasible  369       748.00000  756.00000  1.07%  24.0   55s\n",
      " 57034 16147  756.00000  392    2  748.00000  756.00000  1.07%  24.8   61s\n",
      " 60956 17046  752.00000  265  130  748.00000  756.00000  1.07%  24.8   65s\n",
      " 66970 17357 infeasible  392       748.00000  756.00000  1.07%  24.9   71s\n",
      " 72752 18466  752.00000  362   33  748.00000  756.00000  1.07%  24.6   76s\n",
      " 75713 19025 infeasible  367       748.00000  756.00000  1.07%  25.1   80s\n",
      " 82082 21234  752.00000  301   94  748.00000  756.00000  1.07%  24.5   86s\n",
      " 88480 23846  752.00000  341   54  748.00000  756.00000  1.07%  23.7   90s\n",
      " 93087 24654  752.00000  286  109  748.00000  756.00000  1.07%  23.7   95s\n",
      " 99205 24722  752.00000  342   53  748.00000  756.00000  1.07%  24.3  100s\n",
      " 104902 25418  752.00000  299   96  748.00000  756.00000  1.07%  24.8  105s\n",
      " 110847 26368  754.00000  391    4  748.00000  756.00000  1.07%  25.2  111s\n",
      " 116250 27763  752.00000  265  130  748.00000  756.00000  1.07%  25.1  115s\n",
      " 121782 29164 infeasible  388       748.00000  756.00000  1.07%  25.4  120s\n",
      " 125745 29330 infeasible  288       748.00000  756.00000  1.07%  26.0  125s\n",
      " 132433 30165  752.00000  234  161  748.00000  756.00000  1.07%  26.4  131s\n",
      " 138359 31438  752.00000  187  208  748.00000  756.00000  1.07%  26.3  135s\n",
      " 142255 31460 infeasible  291       748.00000  756.00000  1.07%  27.3  140s\n",
      " 146721 32532  752.00000  284  111  748.00000  756.00000  1.07%  27.7  145s\n",
      " 151209 33402 infeasible  340       748.00000  756.00000  1.07%  28.2  150s\n",
      "\n",
      "Explored 152283 nodes (4292286 simplex iterations) in 150.01 seconds (82.29 work units)\n",
      "Thread count was 8 (of 8 available processors)\n",
      "\n",
      "Solution count 1: 748 \n",
      "\n",
      "Time limit reached\n",
      "Best objective 7.480000000000e+02, best bound 7.560000000000e+02, gap 1.0695%\n",
      "Total time:  300.8s\n"
     ]
    }
   ],
   "source": [
    "start = time.time()\n",
    "sol=auditor_tools.solve_regression_fractional(X,Y,intercept=False, time_limit=1500, \n",
    "                                              pairs=pairs)\n",
    "print('Current time: ',str(time.time()-start)[:5]+'s')\n",
    "sol_int=auditor_tools.solve_regression_integral(X,Y, intercept=False, time_limit=1500,\n",
    "                             warm_start=[1 if sol[-2][x].X>.999 else 0 for x in \n",
    "                                         range(len(sol[-2]))],\n",
    "                                 warm_start_ub=sol[0],pairs=pairs)\n",
    "print('Total time: ',str(time.time()-start)[:5]+'s')"
   ]
  },
  {
   "cell_type": "markdown",
   "id": "aaf9fade",
   "metadata": {},
   "source": [
    "We can observe two features from running on Gurobi on this instance: first, even significant time Gurobi does not manage to certify the optimal solution for this ''easy'' instance (easy in the sense that the exact algorithm finds it in .001s); second, Gurobi does identify the optimal solution (basically) instantaneously, it just cannot find a certificate."
   ]
  }
 ],
 "metadata": {
  "kernelspec": {
   "display_name": "Python 3 (ipykernel)",
   "language": "python",
   "name": "python3"
  },
  "language_info": {
   "codemirror_mode": {
    "name": "ipython",
    "version": 3
   },
   "file_extension": ".py",
   "mimetype": "text/x-python",
   "name": "python",
   "nbconvert_exporter": "python",
   "pygments_lexer": "ipython3",
   "version": "3.9.12"
  }
 },
 "nbformat": 4,
 "nbformat_minor": 5
}
