{
 "cells": [
  {
   "cell_type": "code",
   "execution_count": 1,
   "id": "a8a34a2b",
   "metadata": {},
   "outputs": [],
   "source": [
    "import numpy as np\n",
    "import copy\n",
    "import matplotlib.pyplot as plt\n",
    "import time\n",
    "\n",
    "import sys\n",
    "sys.path.append('../MoitraRohatgi/')\n",
    "sys.path.append('../')\n",
    "import auditor_tools\n",
    "import algorithms\n",
    "import experiments\n",
    "import examples\n",
    "import our_experiments"
   ]
  },
  {
   "cell_type": "markdown",
   "id": "b2100bfc",
   "metadata": {},
   "source": [
    "# Synthetic data \n",
    "We load both datasets (2D and 4D) and then run each of the algorithms (other than the greedy exact ones that don't apply here)."
   ]
  },
  {
   "cell_type": "code",
   "execution_count": 2,
   "id": "b207d965",
   "metadata": {},
   "outputs": [],
   "source": [
    "X2, Y2, n2, X4, Y4, n4 = our_experiments.LoadSyntheticData()"
   ]
  },
  {
   "cell_type": "markdown",
   "id": "c315ac72",
   "metadata": {},
   "source": [
    "#### 2D"
   ]
  },
  {
   "cell_type": "code",
   "execution_count": 3,
   "id": "4ee78248",
   "metadata": {},
   "outputs": [
    {
     "data": {
      "text/plain": [
       "<matplotlib.collections.PathCollection at 0x7fbd28fce250>"
      ]
     },
     "execution_count": 3,
     "metadata": {},
     "output_type": "execute_result"
    },
    {
     "data": {
      "image/png": "[encoded data removed]",
      "text/plain": [
       "<Figure size 432x288 with 1 Axes>"
      ]
     },
     "metadata": {
      "needs_background": "light"
     },
     "output_type": "display_data"
    }
   ],
   "source": [
    "# plot the dataset, for intuition\n",
    "plt.scatter(X2[:,0],Y2)"
   ]
  },
  {
   "cell_type": "code",
   "execution_count": 4,
   "id": "4266db7f",
   "metadata": {},
   "outputs": [
    {
     "name": "stdout",
     "output_type": "stream",
     "text": [
      "Moitra-Rohatgi (fractional stability):\n",
      "Set parameter Username\n",
      "Academic license - for non-commercial use only - expires 2023-08-04\n",
      "upper bound: 62.656931697685266\n",
      "lower bound: 60.22962675747046\n",
      "total time: 25.65052890777588\n"
     ]
    }
   ],
   "source": [
    "print(\"Moitra-Rohatgi (fractional stability):\")\n",
    "timer = time.time()\n",
    "print(\"upper bound: \" + str(algorithms.net_algorithm(X2,Y2,100)))\n",
    "print(\"lower bound: \" + str(algorithms.lp_algorithm(X2,Y2,[0],100)))\n",
    "print(\"total time: \" + str(time.time() - timer))"
   ]
  },
  {
   "cell_type": "code",
   "execution_count": 5,
   "id": "ed0ba1c2",
   "metadata": {},
   "outputs": [
    {
     "name": "stdout",
     "output_type": "stream",
     "text": [
      "Spectral:\n",
      "lower bound: 19.543225083505405\n",
      "total time: 0.015471696853637695\n"
     ]
    }
   ],
   "source": [
    "print(\"Spectral:\")\n",
    "timer = time.time()\n",
    "print(\"lower bound: \" + str(auditor_tools.spectral_certify(X2,Y2,intercept=False,i=0,verbose=True)))\n",
    "print(\"total time: \" + str(time.time() - timer))"
   ]
  },
  {
   "cell_type": "code",
   "execution_count": 6,
   "id": "3c002205",
   "metadata": {
    "scrolled": false
   },
   "outputs": [
    {
     "name": "stdout",
     "output_type": "stream",
     "text": [
      "Integer Programming (1 min cutoff):\n",
      "set residual constraints\n",
      "Set parameter NonConvex to value 2\n",
      "Set parameter TimeLimit to value 30\n",
      "start solving\n",
      "Gurobi Optimizer version 9.5.2 build v9.5.2rc0 (mac64[rosetta2])\n",
      "Thread count: 8 physical cores, 8 logical processors, using up to 8 threads\n",
      "Optimize a model with 200 rows, 101 columns and 200 nonzeros\n",
      "Model fingerprint: 0x0b438095\n",
      "Model has 2 quadratic constraints\n",
      "Coefficient statistics:\n",
      "  Matrix range     [1e+00, 1e+00]\n",
      "  QMatrix range    [1e-02, 2e+00]\n",
      "  QLMatrix range   [5e-04, 1e+01]\n",
      "  Objective range  [1e+00, 1e+00]\n",
      "  Bounds range     [0e+00, 0e+00]\n",
      "  RHS range        [1e+00, 1e+00]\n",
      "Presolve removed 200 rows and 0 columns\n",
      "\n",
      "Continuous model is non-convex -- solving as a MIP\n",
      "\n",
      "Found heuristic solution: objective -0.0000000\n",
      "Presolve removed 200 rows and 0 columns\n",
      "Presolve time: 0.00s\n",
      "Presolved: 402 rows, 202 columns, 1200 nonzeros\n",
      "Presolved model has 100 bilinear constraint(s)\n",
      "Variable types: 202 continuous, 0 integer (0 binary)\n",
      "\n",
      "Root relaxation: objective 1.000000e+02, 152 iterations, 0.00 seconds (0.00 work units)\n",
      "\n",
      "    Nodes    |    Current Node    |     Objective Bounds      |     Work\n",
      " Expl Unexpl |  Obj  Depth IntInf | Incumbent    BestBd   Gap | It/Node Time\n",
      "\n",
      "     0     0  100.00000    0  100   -0.00000  100.00000      -     -    0s\n",
      "H    0     0                      37.6159497  100.00000   166%     -    0s\n",
      "     0     0  100.00000    0  100   37.61595  100.00000   166%     -    0s\n",
      "     0     2  100.00000    0  100   37.61595  100.00000   166%     -    0s\n",
      "*  219     6              25      37.6159513   38.12881  1.36%  50.8    0s\n",
      "\n",
      "Explored 243 nodes (11422 simplex iterations) in 0.27 seconds (0.14 work units)\n",
      "Thread count was 8 (of 8 available processors)\n",
      "\n",
      "Solution count 2: 37.616 -0 \n",
      "\n",
      "Optimal solution found (tolerance 1.00e-04)\n",
      "Best objective 3.761595130801e+01, best bound 3.761595130801e+01, gap 0.0000%\n",
      "Set parameter NonConvex to value 2\n",
      "Set parameter TimeLimit to value 30\n",
      "Gurobi Optimizer version 9.5.2 build v9.5.2rc0 (mac64[rosetta2])\n",
      "Thread count: 8 physical cores, 8 logical processors, using up to 8 threads\n",
      "Optimize a model with 2 rows, 102 columns and 101 nonzeros\n",
      "Model fingerprint: 0x55cfe0d8\n",
      "Model has 2 quadratic constraints\n",
      "Variable types: 2 continuous, 100 integer (100 binary)\n",
      "Coefficient statistics:\n",
      "  Matrix range     [1e+00, 1e+00]\n",
      "  QMatrix range    [1e-04, 6e+00]\n",
      "  QLMatrix range   [5e-04, 1e+01]\n",
      "  Objective range  [1e+00, 1e+00]\n",
      "  Bounds range     [1e+00, 1e+00]\n",
      "  RHS range        [4e+01, 4e+01]\n",
      "\n",
      "User MIP start produced solution with objective 37 (0.01s)\n",
      "Loaded user MIP start with objective 37\n",
      "\n",
      "Presolve removed 1 rows and 0 columns\n",
      "Presolve time: 0.00s\n",
      "Presolved: 403 rows, 702 columns, 1700 nonzeros\n",
      "Presolved model has 400 SOS constraint(s)\n",
      "Variable types: 402 continuous, 300 integer (300 binary)\n",
      "\n",
      "Root relaxation: cutoff, 1 iterations, 0.00 seconds (0.00 work units)\n",
      "\n",
      "    Nodes    |    Current Node    |     Objective Bounds      |     Work\n",
      " Expl Unexpl |  Obj  Depth IntInf | Incumbent    BestBd   Gap | It/Node Time\n",
      "\n",
      "     0     0     cutoff    0        37.00000   37.00000  0.00%     -    0s\n",
      "\n",
      "Explored 1 nodes (1 simplex iterations) in 0.03 seconds (0.00 work units)\n",
      "Thread count was 8 (of 8 available processors)\n",
      "\n",
      "Solution count 1: 37 \n",
      "\n",
      "Optimal solution found (tolerance 1.00e-04)\n",
      "Best objective 3.700000000000e+01, best bound 3.700000000000e+01, gap 0.0000%\n",
      "upper bound: 63.0\n",
      "lower bound: 63.0\n",
      "total time: 0.35623979568481445\n"
     ]
    }
   ],
   "source": [
    "print(\"Integer Programming (1 min cutoff):\")\n",
    "timer = time.time()\n",
    "\n",
    "# get fractional bound, also fractional weights to warm-start integral solve\n",
    "Xflipped = copy.deepcopy(np.flip(X2,axis=1))\n",
    "bound_frac, val_frac, w, model = auditor_tools.solve_regression_fractional(Xflipped,Y2, \n",
    "                                intercept=False,time_limit=30, verbose=True)\n",
    "ws = []\n",
    "for i in range(len(Y2)):\n",
    "    if model.getVars()[i].X > 0.8:\n",
    "        ws.append(1)\n",
    "    else:\n",
    "        ws.append(0)\n",
    "\n",
    "# do the integral solve\n",
    "bound, val, w, model = auditor_tools.solve_regression_integral(Xflipped,Y2,\n",
    "                        intercept=False,time_limit=30,warm_start=ws, warm_start_ub= model.ObjBound,verbose=True)\n",
    "\n",
    "print(\"upper bound: \" + str((len(Y2) - val)))\n",
    "print(\"lower bound: \" + str((len(Y2) - bound)))\n",
    "print(\"total time: \" + str(time.time() - timer))"
   ]
  },
  {
   "cell_type": "code",
   "execution_count": 7,
   "id": "7390e163",
   "metadata": {},
   "outputs": [
    {
     "name": "stdout",
     "output_type": "stream",
     "text": [
      "ZAMinfluence (BGM21):\n",
      "upper bound: 100\n",
      "total time: 0.03093099594116211\n"
     ]
    }
   ],
   "source": [
    "print(\"ZAMinfluence (BGM21):\")\n",
    "timer = time.time()\n",
    "print(\"upper bound: \" + str(len(Y2)-auditor_tools.ZAMinfluence_upper_bound(Xflipped,Y2)[0]))\n",
    "print(\"total time: \" + str(time.time() - timer))"
   ]
  },
  {
   "cell_type": "code",
   "execution_count": 8,
   "id": "b72ebe52",
   "metadata": {},
   "outputs": [
    {
     "name": "stdout",
     "output_type": "stream",
     "text": [
      "KZC21:\n",
      "upper bound: 63\n",
      "total time: 0.10919809341430664\n"
     ]
    }
   ],
   "source": [
    "print(\"KZC21:\")\n",
    "timer = time.time()\n",
    "print(\"upper bound: \" + str(len(Y2)-auditor_tools.ZAMinfluence_resolving(Xflipped,Y2)[0]))\n",
    "print(\"total time: \" + str(time.time() - timer))"
   ]
  },
  {
   "cell_type": "markdown",
   "id": "3b8f56ad",
   "metadata": {},
   "source": [
    "#### 4D\n",
    "\n",
    "Here, we don't try to run the Moitra-Rohatgi lower bound because it is too slow in higher dimensions"
   ]
  },
  {
   "cell_type": "code",
   "execution_count": 9,
   "id": "c555d667",
   "metadata": {},
   "outputs": [
    {
     "name": "stdout",
     "output_type": "stream",
     "text": [
      "Moitra-Rohatgi (fractional stability):\n",
      "upper bound: 451.8334680019641\n",
      "lower bound: NONE -- MR LP algorithm times out in 4 dimensions\n",
      "lower bound: 0.0\n",
      "total time: 40.39258599281311\n"
     ]
    }
   ],
   "source": [
    "print(\"Moitra-Rohatgi (fractional stability):\")\n",
    "timer = time.time()\n",
    "print(\"upper bound: \" + str(algorithms.net_algorithm(X4,Y4,1000)))\n",
    "print(\"lower bound: NONE -- MR LP algorithm times out in 4 dimensions\")\n",
    "print(\"lower bound: \" + str(algorithms.lp_algorithm(X4,Y4,[0],5)))\n",
    "print(\"total time: \" + str(time.time() - timer))"
   ]
  },
  {
   "cell_type": "code",
   "execution_count": 10,
   "id": "48612d56",
   "metadata": {},
   "outputs": [
    {
     "name": "stdout",
     "output_type": "stream",
     "text": [
      "Spectral:\n",
      "lower bound: 101.74449656290035\n",
      "total time: 0.10803914070129395\n"
     ]
    }
   ],
   "source": [
    "print(\"Spectral:\")\n",
    "timer = time.time()\n",
    "print(\"lower bound: \" + str(auditor_tools.spectral_certify(X4,Y4,i=3,intercept=False,verbose=True)))\n",
    "print(\"total time: \" + str(time.time() - timer))"
   ]
  },
  {
   "cell_type": "code",
   "execution_count": 11,
   "id": "c3a72779",
   "metadata": {},
   "outputs": [
    {
     "name": "stdout",
     "output_type": "stream",
     "text": [
      "Integer Programming (1 min cutoff):\n",
      "set residual constraints\n",
      "Set parameter NonConvex to value 2\n",
      "Set parameter TimeLimit to value 30\n",
      "start solving\n",
      "Gurobi Optimizer version 9.5.2 build v9.5.2rc0 (mac64[rosetta2])\n",
      "Thread count: 8 physical cores, 8 logical processors, using up to 8 threads\n",
      "Optimize a model with 2000 rows, 1004 columns and 2000 nonzeros\n",
      "Model fingerprint: 0xa4a90cdc\n",
      "Model has 5 quadratic constraints\n",
      "Coefficient statistics:\n",
      "  Matrix range     [1e+00, 1e+00]\n",
      "  QMatrix range    [2e-07, 2e+01]\n",
      "  QLMatrix range   [3e-04, 3e+01]\n",
      "  Objective range  [1e+00, 1e+00]\n",
      "  Bounds range     [0e+00, 0e+00]\n",
      "  RHS range        [1e+00, 1e+00]\n",
      "Presolve removed 2000 rows and 0 columns\n",
      "\n",
      "Continuous model is non-convex -- solving as a MIP\n",
      "\n",
      "Found heuristic solution: objective -0.0000000\n",
      "Presolve removed 2000 rows and 0 columns\n",
      "Presolve time: 0.02s\n",
      "Presolved: 16005 rows, 5005 columns, 57000 nonzeros\n",
      "Presolved model has 4000 bilinear constraint(s)\n",
      "Variable types: 5005 continuous, 0 integer (0 binary)\n",
      "\n",
      "Root relaxation: objective 1.000000e+03, 5206 iterations, 0.94 seconds (2.53 work units)\n",
      "\n",
      "    Nodes    |    Current Node    |     Objective Bounds      |     Work\n",
      " Expl Unexpl |  Obj  Depth IntInf | Incumbent    BestBd   Gap | It/Node Time\n",
      "\n",
      "     0     0 1000.00000    0 4000   -0.00000 1000.00000      -     -    1s\n",
      "H    0     0                     591.6046660 1000.00000  69.0%     -    1s\n",
      "     0     0 1000.00000    0 4000  591.60467 1000.00000  69.0%     -    2s\n",
      "     0     2 1000.00000    0 4000  591.60467 1000.00000  69.0%     -    4s\n",
      "     1     4 1000.00000    1 3763  591.60467 1000.00000  69.0%   851    5s\n",
      "    15    24 1000.00000    4 2777  591.60467 1000.00000  69.0%   883   11s\n",
      "    23    32 1000.00000    4 2661  591.60467 1000.00000  69.0%  1328   15s\n",
      "    39    48 1000.00000    5 2926  591.60467 1000.00000  69.0%  1789   24s\n",
      "    47    59 1000.00000    6 1485  591.60467 1000.00000  69.0%  1969   27s\n",
      "    58    62 1000.00000    7 2972  591.60467 1000.00000  69.0%  1798   30s\n",
      "\n",
      "Explored 61 nodes (109534 simplex iterations) in 30.02 seconds (60.23 work units)\n",
      "Thread count was 8 (of 8 available processors)\n",
      "\n",
      "Solution count 2: 591.605 -0 \n",
      "\n",
      "Time limit reached\n",
      "Best objective 5.916046659643e+02, best bound 1.000000000000e+03, gap 69.0318%\n",
      "Set parameter NonConvex to value 2\n",
      "Set parameter TimeLimit to value 30\n",
      "Gurobi Optimizer version 9.5.2 build v9.5.2rc0 (mac64[rosetta2])\n",
      "Thread count: 8 physical cores, 8 logical processors, using up to 8 threads\n",
      "Optimize a model with 2 rows, 1005 columns and 1001 nonzeros\n",
      "Model fingerprint: 0xa7c4db75\n",
      "Model has 5 quadratic constraints\n",
      "Variable types: 5 continuous, 1000 integer (1000 binary)\n",
      "Coefficient statistics:\n",
      "  Matrix range     [1e+00, 1e+00]\n",
      "  QMatrix range    [2e-07, 2e+01]\n",
      "  QLMatrix range   [3e-04, 3e+01]\n",
      "  Objective range  [1e+00, 1e+00]\n",
      "  Bounds range     [1e+00, 1e+00]\n",
      "  RHS range        [1e+03, 1e+03]\n",
      "\n",
      "User MIP start produced solution with objective 591 (0.01s)\n",
      "Loaded user MIP start with objective 591\n",
      "\n",
      "Presolve removed 2 rows and 0 columns\n",
      "Presolve time: 0.02s\n",
      "Presolved: 10005 rows, 16005 columns, 55000 nonzeros\n",
      "Presolved model has 10000 SOS constraint(s)\n",
      "Variable types: 10005 continuous, 6000 integer (6000 binary)\n",
      "\n",
      "Root relaxation: objective 1.000000e+03, 4 iterations, 0.01 seconds (0.00 work units)\n",
      "\n",
      "    Nodes    |    Current Node    |     Objective Bounds      |     Work\n",
      " Expl Unexpl |  Obj  Depth IntInf | Incumbent    BestBd   Gap | It/Node Time\n",
      "\n",
      "     0     0 1000.00000    0    5  591.00000 1000.00000  69.2%     -    0s\n",
      "     0     0 1000.00000    0    5  591.00000 1000.00000  69.2%     -    0s\n",
      "     0     2 1000.00000    0    5  591.00000 1000.00000  69.2%     -    0s\n",
      "   124   148  997.00000   10  994  591.00000 1000.00000  69.2%   2.3    5s\n",
      "  1868  1975  996.00000   32 1938  591.00000 1000.00000  69.2%   2.0   10s\n",
      "  2643  2786  996.00000   39 1924  591.00000 1000.00000  69.2%   8.3   15s\n",
      "  3523  3614  996.00000   49 1904  591.00000 1000.00000  69.2%  10.4   20s\n",
      "  4447  4724  996.00000   58 1886  591.00000 1000.00000  69.2%  11.5   25s\n",
      "  6024  6031  996.00000   72 1858  591.00000 1000.00000  69.2%  11.2   30s\n",
      "\n",
      "Explored 6072 nodes (67580 simplex iterations) in 30.00 seconds (41.19 work units)\n",
      "Thread count was 8 (of 8 available processors)\n",
      "\n",
      "Solution count 1: 591 \n",
      "\n",
      "Time limit reached\n",
      "Best objective 5.910000000000e+02, best bound 1.000000000000e+03, gap 69.2047%\n",
      "upper bound: 409.0\n",
      "lower bound: 0.0\n",
      "total time: 60.783442974090576\n"
     ]
    }
   ],
   "source": [
    "print(\"Integer Programming (1 min cutoff):\")\n",
    "\n",
    "timer = time.time()\n",
    "\n",
    "Xflipped = copy.deepcopy(np.flip(X4,axis=1))\n",
    "\n",
    "\n",
    "# get fractional bound, also fractional weights to warm-start integral solve\n",
    "bound_frac, val_frac, w, model = auditor_tools.solve_regression_fractional(Xflipped,Y4, \n",
    "                                intercept=False,time_limit=30,verbose=True)\n",
    "ws = []\n",
    "for i in range(len(Y4)):\n",
    "    if model.getVars()[i].X > 0.95:\n",
    "        ws.append(1)\n",
    "    else:\n",
    "        ws.append(0)\n",
    "\n",
    "# do the integral solve\n",
    "bound, val, w, model = auditor_tools.solve_regression_integral(Xflipped,Y4,\n",
    "                        intercept=False,time_limit=30,warm_start=ws, warm_start_ub= model.ObjBound,verbose=True)\n",
    "\n",
    "\n",
    "print(\"upper bound: \" + str((len(Y4) - val)))\n",
    "print(\"lower bound: \" + str((len(Y4) - bound)))\n",
    "print(\"total time: \" + str(time.time() - timer))"
   ]
  },
  {
   "cell_type": "code",
   "execution_count": 12,
   "id": "e82755b5",
   "metadata": {},
   "outputs": [
    {
     "name": "stdout",
     "output_type": "stream",
     "text": [
      "ZAMinfluence (BGM21):\n",
      "upper bound: 922\n",
      "total time: 1.8792369365692139\n"
     ]
    }
   ],
   "source": [
    "print(\"ZAMinfluence (BGM21):\")\n",
    "timer = time.time()\n",
    "print(\"upper bound: \" + str(len(Y4)-auditor_tools.ZAMinfluence_upper_bound(Xflipped,Y4)[0]))\n",
    "print(\"total time: \" + str(time.time() - timer))"
   ]
  },
  {
   "cell_type": "code",
   "execution_count": 13,
   "id": "dc31487e",
   "metadata": {},
   "outputs": [
    {
     "name": "stdout",
     "output_type": "stream",
     "text": [
      "KZC21:\n",
      "upper bound: 409\n",
      "total time: 6.888159990310669\n"
     ]
    }
   ],
   "source": [
    "print(\"KZC21:\")\n",
    "timer = time.time()\n",
    "print(\"upper bound: \" + str(len(Y4)-auditor_tools.ZAMinfluence_resolving(Xflipped,Y4)[0]))\n",
    "print(\"total time: \" + str(time.time() - timer))"
   ]
  },
  {
   "cell_type": "code",
   "execution_count": null,
   "id": "5bb1c2ed",
   "metadata": {},
   "outputs": [],
   "source": []
  }
 ],
 "metadata": {
  "kernelspec": {
   "display_name": "Python 3 (ipykernel)",
   "language": "python",
   "name": "python3"
  },
  "language_info": {
   "codemirror_mode": {
    "name": "ipython",
    "version": 3
   },
   "file_extension": ".py",
   "mimetype": "text/x-python",
   "name": "python",
   "nbconvert_exporter": "python",
   "pygments_lexer": "ipython3",
   "version": "3.9.12"
  }
 },
 "nbformat": 4,
 "nbformat_minor": 5
}
