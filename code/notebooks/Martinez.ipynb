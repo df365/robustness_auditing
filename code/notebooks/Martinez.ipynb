{
 "cells": [
  {
   "cell_type": "code",
   "execution_count": 1,
   "id": "223e4f65",
   "metadata": {},
   "outputs": [],
   "source": [
    "import numpy as np\n",
    "import copy\n",
    "import matplotlib.pyplot as plt\n",
    "import time\n",
    "\n",
    "import sys\n",
    "sys.path.append('../MoitraRohatgi/')\n",
    "sys.path.append('../')\n",
    "import auditor_tools\n",
    "import algorithms\n",
    "import experiments\n",
    "import examples\n",
    "import our_experiments"
   ]
  },
  {
   "cell_type": "markdown",
   "id": "f51cc722",
   "metadata": {},
   "source": [
    "We first read in the data from Martinez's \"How Much Should We Trust the Dictator’s GDP Growth Estimates?\" and evaluate the value of the coefficient of interest."
   ]
  },
  {
   "cell_type": "code",
   "execution_count": 2,
   "id": "a3e8af17",
   "metadata": {},
   "outputs": [],
   "source": [
    "X,Y = our_experiments.LoadMartinezData()"
   ]
  },
  {
   "cell_type": "code",
   "execution_count": 3,
   "id": "d91c64ac",
   "metadata": {},
   "outputs": [
    {
     "data": {
      "text/plain": [
       "0.02163764726005013"
      ]
     },
     "execution_count": 3,
     "metadata": {},
     "output_type": "execute_result"
    }
   ],
   "source": [
    "algorithms.ols(X,Y,np.ones(len(Y)))[-1]"
   ]
  },
  {
   "cell_type": "markdown",
   "id": "830f477a",
   "metadata": {},
   "source": [
    "Next, we use Gurobi to try to solve the problem fractionally (with a 10s time limit on the solver, though run time will be significantly longer due to the relatively high setup cost)."
   ]
  },
  {
   "cell_type": "code",
   "execution_count": 4,
   "id": "aff88bf5",
   "metadata": {
    "scrolled": false
   },
   "outputs": [
    {
     "name": "stdout",
     "output_type": "stream",
     "text": [
      "Integer Programming (1 min cutoff):\n",
      "Set parameter Username\n",
      "Academic license - for non-commercial use only - expires 2023-08-04\n",
      "set residual constraints\n",
      "Set parameter NonConvex to value 2\n",
      "Set parameter TimeLimit to value 10\n",
      "start solving\n",
      "Gurobi Optimizer version 9.5.2 build v9.5.2rc0 (mac64[rosetta2])\n",
      "Thread count: 8 physical cores, 8 logical processors, using up to 8 threads\n",
      "Optimize a model with 7790 rows, 4106 columns and 7790 nonzeros\n",
      "Model fingerprint: 0x3e6c8bb7\n",
      "Model has 212 quadratic constraints\n",
      "Coefficient statistics:\n",
      "  Matrix range     [1e+00, 1e+00]\n",
      "  QMatrix range    [5e-06, 1e+03]\n",
      "  QLMatrix range   [6e-02, 1e+03]\n",
      "  Objective range  [1e+00, 1e+00]\n",
      "  Bounds range     [0e+00, 0e+00]\n",
      "  RHS range        [1e+00, 1e+00]\n",
      "Presolve removed 7790 rows and 0 columns\n",
      "\n",
      "Continuous model is non-convex -- solving as a MIP\n",
      "\n",
      "Found heuristic solution: objective -0.0000000\n",
      "Presolve removed 7790 rows and 0 columns\n",
      "Presolve time: 0.08s\n",
      "Presolved: 102452 rows, 29667 columns, 425278 nonzeros\n",
      "Presolved model has 25560 bilinear constraint(s)\n",
      "Variable types: 29667 continuous, 0 integer (0 binary)\n",
      "\n",
      "Deterministic concurrent LP optimizer: primal and dual simplex (primal and dual model)\n",
      "Showing first log only...\n",
      "\n",
      "Root relaxation presolve removed 102240 rows and 25772 columns\n",
      "Root relaxation presolved: 212 rows, 3895 columns, 28692 nonzeros\n",
      "\n",
      "\n",
      "Root simplex log...\n",
      "\n",
      "Iteration    Objective       Primal Inf.    Dual Inf.      Time\n",
      "       0    3.8950000e+03   3.122005e+05   4.828932e+09      6s\n",
      "       4    3.8950000e+03   0.000000e+00   0.000000e+00      6s\n",
      "Extra simplex iterations after uncrush: 3762\n",
      "Concurrent spin time: 0.01s\n",
      "\n",
      "Solved with dual simplex (dual model)\n",
      "\n",
      "Root relaxation: objective 3.895000e+03, 4105 iterations, 0.42 seconds (0.39 work units)\n",
      "\n",
      "    Nodes    |    Current Node    |     Objective Bounds      |     Work\n",
      " Expl Unexpl |  Obj  Depth IntInf | Incumbent    BestBd   Gap | It/Node Time\n",
      "\n",
      "     0     0 3895.00000    0  209   -0.00000 3895.00000      -     -    5s\n",
      "H    0     0                    3785.8068214 3895.00000  2.88%     -    6s\n",
      "     0     0 3895.00000    0  209 3785.80682 3895.00000  2.88%     -    6s\n",
      "\n",
      "Explored 1 nodes (4105 simplex iterations) in 11.94 seconds (1.74 work units)\n",
      "Thread count was 8 (of 8 available processors)\n",
      "\n",
      "Solution count 2: 3785.81 -0 \n",
      "\n",
      "Time limit reached\n",
      "Best objective 3.785806821386e+03, best bound 3.895000000000e+03, gap 2.8843%\n",
      "time taken:  243.19870591163635\n"
     ]
    }
   ],
   "source": [
    "print(\"Integer Programming (1 min cutoff):\")\n",
    "timer = time.time()\n",
    "\n",
    "# get fractional bound, also fractional weights\n",
    "bound_frac, val_frac, w, model = auditor_tools.solve_regression_fractional(X,Y, \n",
    "                                time_limit=10, verbose=True)\n",
    "\n",
    "print('time taken: ', time.time()-timer)"
   ]
  },
  {
   "cell_type": "code",
   "execution_count": 5,
   "id": "285f4282",
   "metadata": {},
   "outputs": [
    {
     "data": {
      "text/plain": [
       "-1.4850343177386094e-12"
      ]
     },
     "execution_count": 5,
     "metadata": {},
     "output_type": "execute_result"
    }
   ],
   "source": [
    "# We can check that the fractional weights indeed set the coefficeint of interest to be negative\n",
    "algorithms.ols(X,Y,[x.X for x in w])[-1]"
   ]
  },
  {
   "cell_type": "code",
   "execution_count": 6,
   "id": "98b47042",
   "metadata": {},
   "outputs": [],
   "source": [
    "# We round all weights that are smaller than .999 to 0, i.e., effectively we round every fractional value\n",
    "# (up to numerical errors) to 0; the resulting weights are not guaranteed to give a negative coefficient of\n",
    "# interest, so we double-check that thereafter.\n",
    "weights = [1 if x.X>.999 else 0 for x in w]"
   ]
  },
  {
   "cell_type": "code",
   "execution_count": 7,
   "id": "4e7a7f46",
   "metadata": {},
   "outputs": [
    {
     "data": {
      "text/plain": [
       "-9.123871833338626e-05"
      ]
     },
     "execution_count": 7,
     "metadata": {},
     "output_type": "execute_result"
    }
   ],
   "source": [
    "algorithms.ols(X,Y,weights)[-1]"
   ]
  },
  {
   "cell_type": "markdown",
   "id": "fe1d5207",
   "metadata": {},
   "source": [
    "What remains to be done is to check the objective; how many observations did we need to remove?"
   ]
  },
  {
   "cell_type": "code",
   "execution_count": 8,
   "id": "d85effca",
   "metadata": {},
   "outputs": [
    {
     "data": {
      "text/plain": [
       "110"
      ]
     },
     "execution_count": 8,
     "metadata": {},
     "output_type": "execute_result"
    }
   ],
   "source": [
    "len(X)-sum(weights)"
   ]
  },
  {
   "cell_type": "markdown",
   "id": "7601a07a",
   "metadata": {},
   "source": [
    "### Solutions obtained via different implementations of ZAM\n",
    "We first run our implementation of the usual ZAM algorithm (upper bound of 136); then run our resolving implementation (upper bound of 110), and then run MR22's resolving implementation (upper bound of 173). Whereas our resolving implementation matches the best solution found by Gurobi, the other two do not."
   ]
  },
  {
   "cell_type": "code",
   "execution_count": 9,
   "id": "9072b94b",
   "metadata": {
    "scrolled": false
   },
   "outputs": [
    {
     "name": "stdout",
     "output_type": "stream",
     "text": [
      "time taken:  49.583979845047\n"
     ]
    }
   ],
   "source": [
    "timer = time.time()\n",
    "t1,w1=auditor_tools.ZAMinfluence_upper_bound(X,Y)\n",
    "print('time taken: ', time.time()-timer)"
   ]
  },
  {
   "cell_type": "code",
   "execution_count": 10,
   "id": "9a37d570",
   "metadata": {},
   "outputs": [
    {
     "data": {
      "text/plain": [
       "-0.00013245489510183006"
      ]
     },
     "execution_count": 10,
     "metadata": {},
     "output_type": "execute_result"
    }
   ],
   "source": [
    "algorithms.ols(X,Y,w1)[-1]"
   ]
  },
  {
   "cell_type": "code",
   "execution_count": 11,
   "id": "5f1a90ed",
   "metadata": {},
   "outputs": [
    {
     "name": "stdout",
     "output_type": "stream",
     "text": [
      "number of samples removed by ZAMinfluence:  136\n"
     ]
    }
   ],
   "source": [
    "print('number of samples removed by ZAMinfluence: ',len(X)-t1)"
   ]
  },
  {
   "cell_type": "code",
   "execution_count": 12,
   "id": "7fc63962",
   "metadata": {
    "scrolled": false
   },
   "outputs": [
    {
     "name": "stdout",
     "output_type": "stream",
     "text": [
      "time taken:  121.63717913627625\n"
     ]
    }
   ],
   "source": [
    "timer = time.time()\n",
    "t2,w2=auditor_tools.ZAMinfluence_resolving(X,Y)\n",
    "print('time taken: ', time.time()-timer)"
   ]
  },
  {
   "cell_type": "code",
   "execution_count": 13,
   "id": "eaf4e208",
   "metadata": {},
   "outputs": [
    {
     "data": {
      "text/plain": [
       "-8.576076709232439e-06"
      ]
     },
     "execution_count": 13,
     "metadata": {},
     "output_type": "execute_result"
    }
   ],
   "source": [
    "algorithms.ols(X,Y,w2)[-1]"
   ]
  },
  {
   "cell_type": "code",
   "execution_count": 14,
   "id": "b6abb8a0",
   "metadata": {},
   "outputs": [
    {
     "name": "stdout",
     "output_type": "stream",
     "text": [
      "number of samples removed by ZAMinfluence with resolving:  110\n"
     ]
    }
   ],
   "source": [
    "print('number of samples removed by ZAMinfluence with resolving: ',len(X)-t2)"
   ]
  },
  {
   "cell_type": "code",
   "execution_count": 15,
   "id": "3e99ed7a",
   "metadata": {},
   "outputs": [
    {
     "data": {
      "text/plain": [
       "0.021637647259993287"
      ]
     },
     "execution_count": 15,
     "metadata": {},
     "output_type": "execute_result"
    }
   ],
   "source": [
    "X_flipped = copy.deepcopy(np.flip(X,axis=1))\n",
    "algorithms.ols(X_flipped,Y,np.ones(len(Y)))[0]"
   ]
  },
  {
   "cell_type": "code",
   "execution_count": null,
   "id": "0a45bb72",
   "metadata": {},
   "outputs": [
    {
     "name": "stdout",
     "output_type": "stream",
     "text": [
      "KZC21 as implemented by MR:\n"
     ]
    }
   ],
   "source": [
    "print(\"KZC21 as implemented by MR:\")\n",
    "timer = time.time()\n",
    "print(\"upper bound: \" + str(algorithms.sensitivity(X_flipped,Y)))\n",
    "print(\"total time: \" + str(time.time() - timer))"
   ]
  },
  {
   "cell_type": "code",
   "execution_count": null,
   "id": "698f7cde",
   "metadata": {},
   "outputs": [],
   "source": []
  }
 ],
 "metadata": {
  "kernelspec": {
   "display_name": "Python 3 (ipykernel)",
   "language": "python",
   "name": "python3"
  },
  "language_info": {
   "codemirror_mode": {
    "name": "ipython",
    "version": 3
   },
   "file_extension": ".py",
   "mimetype": "text/x-python",
   "name": "python",
   "nbconvert_exporter": "python",
   "pygments_lexer": "ipython3",
   "version": "3.9.12"
  }
 },
 "nbformat": 4,
 "nbformat_minor": 5
}
